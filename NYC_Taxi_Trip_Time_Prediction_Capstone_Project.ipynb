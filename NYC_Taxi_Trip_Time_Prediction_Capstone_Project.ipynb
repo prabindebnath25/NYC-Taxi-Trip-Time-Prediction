{
  "cells": [
    {
      "cell_type": "markdown",
      "metadata": {
        "id": "view-in-github",
        "colab_type": "text"
      },
      "source": [
        "<a href=\"https://colab.research.google.com/github/prabindebnath25/NYC-Taxi-Trip-Time-Prediction/blob/main/NYC_Taxi_Trip_Time_Prediction_Capstone_Project.ipynb\" target=\"_parent\"><img src=\"https://colab.research.google.com/assets/colab-badge.svg\" alt=\"Open In Colab\"/></a>"
      ]
    },
    {
      "cell_type": "markdown",
      "metadata": {
        "id": "tOGC-qoyhJeX"
      },
      "source": [
        "# <b><u> Project Title : Taxi trip time Prediction : Predicting total ride duration of taxi trips in New York City</u></b>"
      ]
    },
    {
      "cell_type": "markdown",
      "metadata": {
        "id": "G7bohg8BXjkD"
      },
      "source": []
    },
    {
      "cell_type": "markdown",
      "metadata": {
        "id": "Y06xIdG26kRF"
      },
      "source": [
        "## <b> Problem Description </b>\n",
        "\n",
        "### Your task is to build a model that predicts the total ride duration of taxi trips in New York City. Your primary dataset is one released by the NYC Taxi and Limousine Commission, which includes pickup time, geo-coordinates, number of passengers, and several other variables."
      ]
    },
    {
      "cell_type": "markdown",
      "metadata": {
        "id": "WWeU1f9bwqQq"
      },
      "source": [
        "## <b> Data Description </b>\n",
        "\n",
        "### The dataset is based on the 2016 NYC Yellow Cab trip record data made available in Big Query on Google Cloud Platform. The data was originally published by the NYC Taxi and Limousine Commission (TLC). The data was sampled and cleaned for the purposes of this project. Based on individual trip attributes, you should predict the duration of each trip in the test set.\n",
        "\n",
        "### <b>NYC Taxi Data.csv</b> - the training set (contains 1458644 trip records)\n",
        "\n",
        "\n",
        "### Data fields\n",
        "* #### id - a unique identifier for each trip\n",
        "* #### vendor_id - a code indicating the provider associated with the trip record\n",
        "* #### pickup_datetime - date and time when the meter was engaged\n",
        "* #### dropoff_datetime - date and time when the meter was disengaged\n",
        "* #### passenger_count - the number of passengers in the vehicle (driver entered value)\n",
        "* #### pickup_longitude - the longitude where the meter was engaged\n",
        "* #### pickup_latitude - the latitude where the meter was engaged\n",
        "* #### dropoff_longitude - the longitude where the meter was disengaged\n",
        "* #### dropoff_latitude - the latitude where the meter was disengaged\n",
        "* #### store_and_fwd_flag - This flag indicates whether the trip record was held in vehicle memory before sending to the vendor because the vehicle did not have a connection to the server - Y=store and forward; N=not a store and forward trip\n",
        "* #### trip_duration - duration of the trip in seconds"
      ]
    },
    {
      "cell_type": "code",
      "execution_count": 1,
      "metadata": {
        "colab": {
          "base_uri": "https://localhost:8080/"
        },
        "id": "j3u2K6jksi27",
        "outputId": "5942f20e-d12d-44af-fbbc-4c28c64f649d"
      },
      "outputs": [
        {
          "output_type": "stream",
          "name": "stdout",
          "text": [
            "Looking in indexes: https://pypi.org/simple, https://us-python.pkg.dev/colab-wheels/public/simple/\n",
            "Collecting haversine\n",
            "  Downloading haversine-2.7.0-py2.py3-none-any.whl (6.9 kB)\n",
            "Installing collected packages: haversine\n",
            "Successfully installed haversine-2.7.0\n"
          ]
        }
      ],
      "source": [
        "# Import necessary libraries\n",
        "import numpy as np\n",
        "import pandas as pd\n",
        "import matplotlib.pyplot as plt\n",
        "import seaborn as sns\n",
        "import datetime as dt\n",
        "import time\n",
        "\n",
        "\n",
        "from geopy import distance\n",
        "\n",
        "from sklearn.model_selection import train_test_split\n",
        "from sklearn.preprocessing import StandardScaler, MinMaxScaler\n",
        "from sklearn.linear_model import LinearRegression\n",
        "from sklearn.linear_model import Lasso, Ridge,ElasticNet\n",
        "from sklearn.model_selection import GridSearchCV, RandomizedSearchCV\n",
        "from sklearn.ensemble import HistGradientBoostingRegressor\n",
        "from sklearn.ensemble import AdaBoostRegressor\n",
        "from sklearn.ensemble import RandomForestRegressor\n",
        "from sklearn.tree import DecisionTreeRegressor\n",
        "from sklearn.ensemble import GradientBoostingRegressor\n",
        "import xgboost as xgb\n",
        "\n",
        "from sklearn.metrics import r2_score,mean_absolute_error,mean_squared_error\n",
        "\n",
        "# ignore warnings\n",
        "import warnings\n",
        "warnings.filterwarnings(\"ignore\")\n",
        "\n",
        "# We will use haverseine to calculate the distance using the longitudinal and lattitue data.\n",
        "!pip install haversine\n",
        "from haversine import haversine"
      ]
    },
    {
      "cell_type": "markdown",
      "metadata": {
        "id": "LThAAAbQsHk8"
      },
      "source": [
        "# Importing the dataset"
      ]
    },
    {
      "cell_type": "code",
      "execution_count": 2,
      "metadata": {
        "colab": {
          "base_uri": "https://localhost:8080/"
        },
        "id": "yNjdha1VoBug",
        "outputId": "e9fc89cd-5ac8-43bf-effb-291b06855098"
      },
      "outputs": [
        {
          "output_type": "stream",
          "name": "stdout",
          "text": [
            "Mounted at /content/drive\n"
          ]
        }
      ],
      "source": [
        "# Mount the drive.\n",
        "from google.colab import drive\n",
        "drive.mount('/content/drive')"
      ]
    },
    {
      "cell_type": "code",
      "execution_count": 110,
      "metadata": {
        "id": "DIY7eWRWoNo0"
      },
      "outputs": [],
      "source": [
        "# load the data\n",
        "path = \"/content/drive/MyDrive/regression capstone project/NYC Taxi Data.csv\"\n",
        "df = pd.read_csv(path)"
      ]
    },
    {
      "cell_type": "code",
      "execution_count": 58,
      "metadata": {
        "colab": {
          "base_uri": "https://localhost:8080/",
          "height": 337
        },
        "id": "RAmG3XMLoaE2",
        "outputId": "9eb88cf4-3cda-4f3f-8640-bdc33a997fc3"
      },
      "outputs": [
        {
          "output_type": "execute_result",
          "data": {
            "text/plain": [
              "          id  vendor_id      pickup_datetime     dropoff_datetime  \\\n",
              "0  id2875421          2  2016-03-14 17:24:55  2016-03-14 17:32:30   \n",
              "1  id2377394          1  2016-06-12 00:43:35  2016-06-12 00:54:38   \n",
              "2  id3858529          2  2016-01-19 11:35:24  2016-01-19 12:10:48   \n",
              "3  id3504673          2  2016-04-06 19:32:31  2016-04-06 19:39:40   \n",
              "4  id2181028          2  2016-03-26 13:30:55  2016-03-26 13:38:10   \n",
              "\n",
              "   passenger_count  pickup_longitude  pickup_latitude  dropoff_longitude  \\\n",
              "0                1        -73.982155        40.767937         -73.964630   \n",
              "1                1        -73.980415        40.738564         -73.999481   \n",
              "2                1        -73.979027        40.763939         -74.005333   \n",
              "3                1        -74.010040        40.719971         -74.012268   \n",
              "4                1        -73.973053        40.793209         -73.972923   \n",
              "\n",
              "   dropoff_latitude store_and_fwd_flag  trip_duration  \n",
              "0         40.765602                  N            455  \n",
              "1         40.731152                  N            663  \n",
              "2         40.710087                  N           2124  \n",
              "3         40.706718                  N            429  \n",
              "4         40.782520                  N            435  "
            ],
            "text/html": [
              "\n",
              "  <div id=\"df-0d2163f2-66af-4acb-a08d-4abd8fe46249\">\n",
              "    <div class=\"colab-df-container\">\n",
              "      <div>\n",
              "<style scoped>\n",
              "    .dataframe tbody tr th:only-of-type {\n",
              "        vertical-align: middle;\n",
              "    }\n",
              "\n",
              "    .dataframe tbody tr th {\n",
              "        vertical-align: top;\n",
              "    }\n",
              "\n",
              "    .dataframe thead th {\n",
              "        text-align: right;\n",
              "    }\n",
              "</style>\n",
              "<table border=\"1\" class=\"dataframe\">\n",
              "  <thead>\n",
              "    <tr style=\"text-align: right;\">\n",
              "      <th></th>\n",
              "      <th>id</th>\n",
              "      <th>vendor_id</th>\n",
              "      <th>pickup_datetime</th>\n",
              "      <th>dropoff_datetime</th>\n",
              "      <th>passenger_count</th>\n",
              "      <th>pickup_longitude</th>\n",
              "      <th>pickup_latitude</th>\n",
              "      <th>dropoff_longitude</th>\n",
              "      <th>dropoff_latitude</th>\n",
              "      <th>store_and_fwd_flag</th>\n",
              "      <th>trip_duration</th>\n",
              "    </tr>\n",
              "  </thead>\n",
              "  <tbody>\n",
              "    <tr>\n",
              "      <th>0</th>\n",
              "      <td>id2875421</td>\n",
              "      <td>2</td>\n",
              "      <td>2016-03-14 17:24:55</td>\n",
              "      <td>2016-03-14 17:32:30</td>\n",
              "      <td>1</td>\n",
              "      <td>-73.982155</td>\n",
              "      <td>40.767937</td>\n",
              "      <td>-73.964630</td>\n",
              "      <td>40.765602</td>\n",
              "      <td>N</td>\n",
              "      <td>455</td>\n",
              "    </tr>\n",
              "    <tr>\n",
              "      <th>1</th>\n",
              "      <td>id2377394</td>\n",
              "      <td>1</td>\n",
              "      <td>2016-06-12 00:43:35</td>\n",
              "      <td>2016-06-12 00:54:38</td>\n",
              "      <td>1</td>\n",
              "      <td>-73.980415</td>\n",
              "      <td>40.738564</td>\n",
              "      <td>-73.999481</td>\n",
              "      <td>40.731152</td>\n",
              "      <td>N</td>\n",
              "      <td>663</td>\n",
              "    </tr>\n",
              "    <tr>\n",
              "      <th>2</th>\n",
              "      <td>id3858529</td>\n",
              "      <td>2</td>\n",
              "      <td>2016-01-19 11:35:24</td>\n",
              "      <td>2016-01-19 12:10:48</td>\n",
              "      <td>1</td>\n",
              "      <td>-73.979027</td>\n",
              "      <td>40.763939</td>\n",
              "      <td>-74.005333</td>\n",
              "      <td>40.710087</td>\n",
              "      <td>N</td>\n",
              "      <td>2124</td>\n",
              "    </tr>\n",
              "    <tr>\n",
              "      <th>3</th>\n",
              "      <td>id3504673</td>\n",
              "      <td>2</td>\n",
              "      <td>2016-04-06 19:32:31</td>\n",
              "      <td>2016-04-06 19:39:40</td>\n",
              "      <td>1</td>\n",
              "      <td>-74.010040</td>\n",
              "      <td>40.719971</td>\n",
              "      <td>-74.012268</td>\n",
              "      <td>40.706718</td>\n",
              "      <td>N</td>\n",
              "      <td>429</td>\n",
              "    </tr>\n",
              "    <tr>\n",
              "      <th>4</th>\n",
              "      <td>id2181028</td>\n",
              "      <td>2</td>\n",
              "      <td>2016-03-26 13:30:55</td>\n",
              "      <td>2016-03-26 13:38:10</td>\n",
              "      <td>1</td>\n",
              "      <td>-73.973053</td>\n",
              "      <td>40.793209</td>\n",
              "      <td>-73.972923</td>\n",
              "      <td>40.782520</td>\n",
              "      <td>N</td>\n",
              "      <td>435</td>\n",
              "    </tr>\n",
              "  </tbody>\n",
              "</table>\n",
              "</div>\n",
              "      <button class=\"colab-df-convert\" onclick=\"convertToInteractive('df-0d2163f2-66af-4acb-a08d-4abd8fe46249')\"\n",
              "              title=\"Convert this dataframe to an interactive table.\"\n",
              "              style=\"display:none;\">\n",
              "        \n",
              "  <svg xmlns=\"http://www.w3.org/2000/svg\" height=\"24px\"viewBox=\"0 0 24 24\"\n",
              "       width=\"24px\">\n",
              "    <path d=\"M0 0h24v24H0V0z\" fill=\"none\"/>\n",
              "    <path d=\"M18.56 5.44l.94 2.06.94-2.06 2.06-.94-2.06-.94-.94-2.06-.94 2.06-2.06.94zm-11 1L8.5 8.5l.94-2.06 2.06-.94-2.06-.94L8.5 2.5l-.94 2.06-2.06.94zm10 10l.94 2.06.94-2.06 2.06-.94-2.06-.94-.94-2.06-.94 2.06-2.06.94z\"/><path d=\"M17.41 7.96l-1.37-1.37c-.4-.4-.92-.59-1.43-.59-.52 0-1.04.2-1.43.59L10.3 9.45l-7.72 7.72c-.78.78-.78 2.05 0 2.83L4 21.41c.39.39.9.59 1.41.59.51 0 1.02-.2 1.41-.59l7.78-7.78 2.81-2.81c.8-.78.8-2.07 0-2.86zM5.41 20L4 18.59l7.72-7.72 1.47 1.35L5.41 20z\"/>\n",
              "  </svg>\n",
              "      </button>\n",
              "      \n",
              "  <style>\n",
              "    .colab-df-container {\n",
              "      display:flex;\n",
              "      flex-wrap:wrap;\n",
              "      gap: 12px;\n",
              "    }\n",
              "\n",
              "    .colab-df-convert {\n",
              "      background-color: #E8F0FE;\n",
              "      border: none;\n",
              "      border-radius: 50%;\n",
              "      cursor: pointer;\n",
              "      display: none;\n",
              "      fill: #1967D2;\n",
              "      height: 32px;\n",
              "      padding: 0 0 0 0;\n",
              "      width: 32px;\n",
              "    }\n",
              "\n",
              "    .colab-df-convert:hover {\n",
              "      background-color: #E2EBFA;\n",
              "      box-shadow: 0px 1px 2px rgba(60, 64, 67, 0.3), 0px 1px 3px 1px rgba(60, 64, 67, 0.15);\n",
              "      fill: #174EA6;\n",
              "    }\n",
              "\n",
              "    [theme=dark] .colab-df-convert {\n",
              "      background-color: #3B4455;\n",
              "      fill: #D2E3FC;\n",
              "    }\n",
              "\n",
              "    [theme=dark] .colab-df-convert:hover {\n",
              "      background-color: #434B5C;\n",
              "      box-shadow: 0px 1px 3px 1px rgba(0, 0, 0, 0.15);\n",
              "      filter: drop-shadow(0px 1px 2px rgba(0, 0, 0, 0.3));\n",
              "      fill: #FFFFFF;\n",
              "    }\n",
              "  </style>\n",
              "\n",
              "      <script>\n",
              "        const buttonEl =\n",
              "          document.querySelector('#df-0d2163f2-66af-4acb-a08d-4abd8fe46249 button.colab-df-convert');\n",
              "        buttonEl.style.display =\n",
              "          google.colab.kernel.accessAllowed ? 'block' : 'none';\n",
              "\n",
              "        async function convertToInteractive(key) {\n",
              "          const element = document.querySelector('#df-0d2163f2-66af-4acb-a08d-4abd8fe46249');\n",
              "          const dataTable =\n",
              "            await google.colab.kernel.invokeFunction('convertToInteractive',\n",
              "                                                     [key], {});\n",
              "          if (!dataTable) return;\n",
              "\n",
              "          const docLinkHtml = 'Like what you see? Visit the ' +\n",
              "            '<a target=\"_blank\" href=https://colab.research.google.com/notebooks/data_table.ipynb>data table notebook</a>'\n",
              "            + ' to learn more about interactive tables.';\n",
              "          element.innerHTML = '';\n",
              "          dataTable['output_type'] = 'display_data';\n",
              "          await google.colab.output.renderOutput(dataTable, element);\n",
              "          const docLink = document.createElement('div');\n",
              "          docLink.innerHTML = docLinkHtml;\n",
              "          element.appendChild(docLink);\n",
              "        }\n",
              "      </script>\n",
              "    </div>\n",
              "  </div>\n",
              "  "
            ]
          },
          "metadata": {},
          "execution_count": 58
        }
      ],
      "source": [
        "df.head()"
      ]
    },
    {
      "cell_type": "code",
      "execution_count": 58,
      "metadata": {
        "id": "rUAxSojGFaGL"
      },
      "outputs": [],
      "source": []
    },
    {
      "cell_type": "markdown",
      "metadata": {
        "id": "6LWyAfM-FbdS"
      },
      "source": [
        "# EDA\n"
      ]
    },
    {
      "cell_type": "code",
      "execution_count": 59,
      "metadata": {
        "colab": {
          "base_uri": "https://localhost:8080/"
        },
        "id": "_TiI4sRoobuN",
        "outputId": "b2b5a52b-0e7a-4b68-c8d9-806c5bd2cb9c"
      },
      "outputs": [
        {
          "output_type": "stream",
          "name": "stdout",
          "text": [
            "Number of rows 1458644 \n",
            "Number of columns 11\n"
          ]
        }
      ],
      "source": [
        "# Check shape of the data\n",
        "shape = df.shape\n",
        "print(f\"Number of rows {shape[0]} \\nNumber of columns {shape[1]}\")"
      ]
    },
    {
      "cell_type": "code",
      "execution_count": 60,
      "metadata": {
        "colab": {
          "base_uri": "https://localhost:8080/"
        },
        "id": "RSxO19ebtMFE",
        "outputId": "f573088b-eac6-4827-f30b-d3de8e7ceaf1"
      },
      "outputs": [
        {
          "output_type": "stream",
          "name": "stdout",
          "text": [
            "<class 'pandas.core.frame.DataFrame'>\n",
            "RangeIndex: 1458644 entries, 0 to 1458643\n",
            "Data columns (total 11 columns):\n",
            " #   Column              Non-Null Count    Dtype  \n",
            "---  ------              --------------    -----  \n",
            " 0   id                  1458644 non-null  object \n",
            " 1   vendor_id           1458644 non-null  int64  \n",
            " 2   pickup_datetime     1458644 non-null  object \n",
            " 3   dropoff_datetime    1458644 non-null  object \n",
            " 4   passenger_count     1458644 non-null  int64  \n",
            " 5   pickup_longitude    1458644 non-null  float64\n",
            " 6   pickup_latitude     1458644 non-null  float64\n",
            " 7   dropoff_longitude   1458644 non-null  float64\n",
            " 8   dropoff_latitude    1458644 non-null  float64\n",
            " 9   store_and_fwd_flag  1458644 non-null  object \n",
            " 10  trip_duration       1458644 non-null  int64  \n",
            "dtypes: float64(4), int64(3), object(4)\n",
            "memory usage: 122.4+ MB\n"
          ]
        }
      ],
      "source": [
        "# Reveal information about the data.\n",
        "df.info()"
      ]
    },
    {
      "cell_type": "code",
      "execution_count": 61,
      "metadata": {
        "colab": {
          "base_uri": "https://localhost:8080/"
        },
        "id": "c4JYzBirtV7d",
        "outputId": "2f8b30da-75bc-4cd7-911a-b7206f022ce2"
      },
      "outputs": [
        {
          "output_type": "execute_result",
          "data": {
            "text/plain": [
              "id                    0\n",
              "vendor_id             0\n",
              "pickup_datetime       0\n",
              "dropoff_datetime      0\n",
              "passenger_count       0\n",
              "pickup_longitude      0\n",
              "pickup_latitude       0\n",
              "dropoff_longitude     0\n",
              "dropoff_latitude      0\n",
              "store_and_fwd_flag    0\n",
              "trip_duration         0\n",
              "dtype: int64"
            ]
          },
          "metadata": {},
          "execution_count": 61
        }
      ],
      "source": [
        "# Check if it contains null values.\n",
        "df.isnull().sum()"
      ]
    },
    {
      "cell_type": "markdown",
      "metadata": {
        "id": "EHAyXj-CEn0o"
      },
      "source": [
        "There is no null values in the data"
      ]
    },
    {
      "cell_type": "code",
      "execution_count": 62,
      "metadata": {
        "colab": {
          "base_uri": "https://localhost:8080/"
        },
        "id": "O_yN3Q2a2N3l",
        "outputId": "7d3d8c9b-279f-4032-ec60-8d77fea359e6"
      },
      "outputs": [
        {
          "output_type": "stream",
          "name": "stdout",
          "text": [
            "number of duplicate row = 0\n"
          ]
        }
      ],
      "source": [
        "duplicate_row = df.duplicated().sum()\n",
        "print(f\"number of duplicate row = {duplicate_row}\")"
      ]
    },
    {
      "cell_type": "code",
      "execution_count": 63,
      "metadata": {
        "colab": {
          "base_uri": "https://localhost:8080/",
          "height": 300
        },
        "id": "FYbXo_LCZlY8",
        "outputId": "f15a8780-9c0e-43fc-d1f4-4409823b0673"
      },
      "outputs": [
        {
          "output_type": "execute_result",
          "data": {
            "text/plain": [
              "          vendor_id  passenger_count  pickup_longitude  pickup_latitude  \\\n",
              "count  1.458644e+06     1.458644e+06      1.458644e+06     1.458644e+06   \n",
              "mean   1.534950e+00     1.664530e+00     -7.397349e+01     4.075092e+01   \n",
              "std    4.987772e-01     1.314242e+00      7.090186e-02     3.288119e-02   \n",
              "min    1.000000e+00     0.000000e+00     -1.219333e+02     3.435970e+01   \n",
              "25%    1.000000e+00     1.000000e+00     -7.399187e+01     4.073735e+01   \n",
              "50%    2.000000e+00     1.000000e+00     -7.398174e+01     4.075410e+01   \n",
              "75%    2.000000e+00     2.000000e+00     -7.396733e+01     4.076836e+01   \n",
              "max    2.000000e+00     9.000000e+00     -6.133553e+01     5.188108e+01   \n",
              "\n",
              "       dropoff_longitude  dropoff_latitude  trip_duration  \n",
              "count       1.458644e+06      1.458644e+06   1.458644e+06  \n",
              "mean       -7.397342e+01      4.075180e+01   9.594923e+02  \n",
              "std         7.064327e-02      3.589056e-02   5.237432e+03  \n",
              "min        -1.219333e+02      3.218114e+01   1.000000e+00  \n",
              "25%        -7.399133e+01      4.073588e+01   3.970000e+02  \n",
              "50%        -7.397975e+01      4.075452e+01   6.620000e+02  \n",
              "75%        -7.396301e+01      4.076981e+01   1.075000e+03  \n",
              "max        -6.133553e+01      4.392103e+01   3.526282e+06  "
            ],
            "text/html": [
              "\n",
              "  <div id=\"df-b1ff1aa6-0518-4ef2-af00-f6ea9d89e2ee\">\n",
              "    <div class=\"colab-df-container\">\n",
              "      <div>\n",
              "<style scoped>\n",
              "    .dataframe tbody tr th:only-of-type {\n",
              "        vertical-align: middle;\n",
              "    }\n",
              "\n",
              "    .dataframe tbody tr th {\n",
              "        vertical-align: top;\n",
              "    }\n",
              "\n",
              "    .dataframe thead th {\n",
              "        text-align: right;\n",
              "    }\n",
              "</style>\n",
              "<table border=\"1\" class=\"dataframe\">\n",
              "  <thead>\n",
              "    <tr style=\"text-align: right;\">\n",
              "      <th></th>\n",
              "      <th>vendor_id</th>\n",
              "      <th>passenger_count</th>\n",
              "      <th>pickup_longitude</th>\n",
              "      <th>pickup_latitude</th>\n",
              "      <th>dropoff_longitude</th>\n",
              "      <th>dropoff_latitude</th>\n",
              "      <th>trip_duration</th>\n",
              "    </tr>\n",
              "  </thead>\n",
              "  <tbody>\n",
              "    <tr>\n",
              "      <th>count</th>\n",
              "      <td>1.458644e+06</td>\n",
              "      <td>1.458644e+06</td>\n",
              "      <td>1.458644e+06</td>\n",
              "      <td>1.458644e+06</td>\n",
              "      <td>1.458644e+06</td>\n",
              "      <td>1.458644e+06</td>\n",
              "      <td>1.458644e+06</td>\n",
              "    </tr>\n",
              "    <tr>\n",
              "      <th>mean</th>\n",
              "      <td>1.534950e+00</td>\n",
              "      <td>1.664530e+00</td>\n",
              "      <td>-7.397349e+01</td>\n",
              "      <td>4.075092e+01</td>\n",
              "      <td>-7.397342e+01</td>\n",
              "      <td>4.075180e+01</td>\n",
              "      <td>9.594923e+02</td>\n",
              "    </tr>\n",
              "    <tr>\n",
              "      <th>std</th>\n",
              "      <td>4.987772e-01</td>\n",
              "      <td>1.314242e+00</td>\n",
              "      <td>7.090186e-02</td>\n",
              "      <td>3.288119e-02</td>\n",
              "      <td>7.064327e-02</td>\n",
              "      <td>3.589056e-02</td>\n",
              "      <td>5.237432e+03</td>\n",
              "    </tr>\n",
              "    <tr>\n",
              "      <th>min</th>\n",
              "      <td>1.000000e+00</td>\n",
              "      <td>0.000000e+00</td>\n",
              "      <td>-1.219333e+02</td>\n",
              "      <td>3.435970e+01</td>\n",
              "      <td>-1.219333e+02</td>\n",
              "      <td>3.218114e+01</td>\n",
              "      <td>1.000000e+00</td>\n",
              "    </tr>\n",
              "    <tr>\n",
              "      <th>25%</th>\n",
              "      <td>1.000000e+00</td>\n",
              "      <td>1.000000e+00</td>\n",
              "      <td>-7.399187e+01</td>\n",
              "      <td>4.073735e+01</td>\n",
              "      <td>-7.399133e+01</td>\n",
              "      <td>4.073588e+01</td>\n",
              "      <td>3.970000e+02</td>\n",
              "    </tr>\n",
              "    <tr>\n",
              "      <th>50%</th>\n",
              "      <td>2.000000e+00</td>\n",
              "      <td>1.000000e+00</td>\n",
              "      <td>-7.398174e+01</td>\n",
              "      <td>4.075410e+01</td>\n",
              "      <td>-7.397975e+01</td>\n",
              "      <td>4.075452e+01</td>\n",
              "      <td>6.620000e+02</td>\n",
              "    </tr>\n",
              "    <tr>\n",
              "      <th>75%</th>\n",
              "      <td>2.000000e+00</td>\n",
              "      <td>2.000000e+00</td>\n",
              "      <td>-7.396733e+01</td>\n",
              "      <td>4.076836e+01</td>\n",
              "      <td>-7.396301e+01</td>\n",
              "      <td>4.076981e+01</td>\n",
              "      <td>1.075000e+03</td>\n",
              "    </tr>\n",
              "    <tr>\n",
              "      <th>max</th>\n",
              "      <td>2.000000e+00</td>\n",
              "      <td>9.000000e+00</td>\n",
              "      <td>-6.133553e+01</td>\n",
              "      <td>5.188108e+01</td>\n",
              "      <td>-6.133553e+01</td>\n",
              "      <td>4.392103e+01</td>\n",
              "      <td>3.526282e+06</td>\n",
              "    </tr>\n",
              "  </tbody>\n",
              "</table>\n",
              "</div>\n",
              "      <button class=\"colab-df-convert\" onclick=\"convertToInteractive('df-b1ff1aa6-0518-4ef2-af00-f6ea9d89e2ee')\"\n",
              "              title=\"Convert this dataframe to an interactive table.\"\n",
              "              style=\"display:none;\">\n",
              "        \n",
              "  <svg xmlns=\"http://www.w3.org/2000/svg\" height=\"24px\"viewBox=\"0 0 24 24\"\n",
              "       width=\"24px\">\n",
              "    <path d=\"M0 0h24v24H0V0z\" fill=\"none\"/>\n",
              "    <path d=\"M18.56 5.44l.94 2.06.94-2.06 2.06-.94-2.06-.94-.94-2.06-.94 2.06-2.06.94zm-11 1L8.5 8.5l.94-2.06 2.06-.94-2.06-.94L8.5 2.5l-.94 2.06-2.06.94zm10 10l.94 2.06.94-2.06 2.06-.94-2.06-.94-.94-2.06-.94 2.06-2.06.94z\"/><path d=\"M17.41 7.96l-1.37-1.37c-.4-.4-.92-.59-1.43-.59-.52 0-1.04.2-1.43.59L10.3 9.45l-7.72 7.72c-.78.78-.78 2.05 0 2.83L4 21.41c.39.39.9.59 1.41.59.51 0 1.02-.2 1.41-.59l7.78-7.78 2.81-2.81c.8-.78.8-2.07 0-2.86zM5.41 20L4 18.59l7.72-7.72 1.47 1.35L5.41 20z\"/>\n",
              "  </svg>\n",
              "      </button>\n",
              "      \n",
              "  <style>\n",
              "    .colab-df-container {\n",
              "      display:flex;\n",
              "      flex-wrap:wrap;\n",
              "      gap: 12px;\n",
              "    }\n",
              "\n",
              "    .colab-df-convert {\n",
              "      background-color: #E8F0FE;\n",
              "      border: none;\n",
              "      border-radius: 50%;\n",
              "      cursor: pointer;\n",
              "      display: none;\n",
              "      fill: #1967D2;\n",
              "      height: 32px;\n",
              "      padding: 0 0 0 0;\n",
              "      width: 32px;\n",
              "    }\n",
              "\n",
              "    .colab-df-convert:hover {\n",
              "      background-color: #E2EBFA;\n",
              "      box-shadow: 0px 1px 2px rgba(60, 64, 67, 0.3), 0px 1px 3px 1px rgba(60, 64, 67, 0.15);\n",
              "      fill: #174EA6;\n",
              "    }\n",
              "\n",
              "    [theme=dark] .colab-df-convert {\n",
              "      background-color: #3B4455;\n",
              "      fill: #D2E3FC;\n",
              "    }\n",
              "\n",
              "    [theme=dark] .colab-df-convert:hover {\n",
              "      background-color: #434B5C;\n",
              "      box-shadow: 0px 1px 3px 1px rgba(0, 0, 0, 0.15);\n",
              "      filter: drop-shadow(0px 1px 2px rgba(0, 0, 0, 0.3));\n",
              "      fill: #FFFFFF;\n",
              "    }\n",
              "  </style>\n",
              "\n",
              "      <script>\n",
              "        const buttonEl =\n",
              "          document.querySelector('#df-b1ff1aa6-0518-4ef2-af00-f6ea9d89e2ee button.colab-df-convert');\n",
              "        buttonEl.style.display =\n",
              "          google.colab.kernel.accessAllowed ? 'block' : 'none';\n",
              "\n",
              "        async function convertToInteractive(key) {\n",
              "          const element = document.querySelector('#df-b1ff1aa6-0518-4ef2-af00-f6ea9d89e2ee');\n",
              "          const dataTable =\n",
              "            await google.colab.kernel.invokeFunction('convertToInteractive',\n",
              "                                                     [key], {});\n",
              "          if (!dataTable) return;\n",
              "\n",
              "          const docLinkHtml = 'Like what you see? Visit the ' +\n",
              "            '<a target=\"_blank\" href=https://colab.research.google.com/notebooks/data_table.ipynb>data table notebook</a>'\n",
              "            + ' to learn more about interactive tables.';\n",
              "          element.innerHTML = '';\n",
              "          dataTable['output_type'] = 'display_data';\n",
              "          await google.colab.output.renderOutput(dataTable, element);\n",
              "          const docLink = document.createElement('div');\n",
              "          docLink.innerHTML = docLinkHtml;\n",
              "          element.appendChild(docLink);\n",
              "        }\n",
              "      </script>\n",
              "    </div>\n",
              "  </div>\n",
              "  "
            ]
          },
          "metadata": {},
          "execution_count": 63
        }
      ],
      "source": [
        "# Get some statiscis.\n",
        "df.describe()"
      ]
    },
    {
      "cell_type": "code",
      "execution_count": 64,
      "metadata": {
        "id": "q8QYczGMtanc"
      },
      "outputs": [],
      "source": [
        "# Change format for pickup_datetime to datetime\n",
        "df['pickup_datetime'] = pd.to_datetime(df['pickup_datetime'])\n",
        "df['dropoff_datetime'] = pd.to_datetime(df['dropoff_datetime'])"
      ]
    },
    {
      "cell_type": "code",
      "execution_count": 65,
      "metadata": {
        "id": "k-HO99zRxhUl"
      },
      "outputs": [],
      "source": [
        "# Retrive day, month and hour data and drop 'pickup_datetime', 'dropoff_datetime' columns\n",
        "df['weekday'] = df['pickup_datetime'].dt.weekday\n",
        "df['month'] = df['pickup_datetime'].dt.month\n",
        "\n",
        "# Retrive pickup and dropoff hrs.\n",
        "df['pickup_hour'] = df.pickup_datetime.dt.hour\n",
        "df['dropoff_hour'] = df.dropoff_datetime.dt.hour\n",
        "\n",
        "df.drop(columns=['pickup_datetime', 'dropoff_datetime'], inplace= True)"
      ]
    },
    {
      "cell_type": "code",
      "execution_count": 66,
      "metadata": {
        "colab": {
          "base_uri": "https://localhost:8080/"
        },
        "id": "Bzd4_khlcrQM",
        "outputId": "df11ecaf-8929-4b76-9c51-be8e591a7099"
      },
      "outputs": [
        {
          "output_type": "stream",
          "name": "stdout",
          "text": [
            "<class 'pandas.core.frame.DataFrame'>\n",
            "RangeIndex: 1458644 entries, 0 to 1458643\n",
            "Data columns (total 13 columns):\n",
            " #   Column              Non-Null Count    Dtype  \n",
            "---  ------              --------------    -----  \n",
            " 0   id                  1458644 non-null  object \n",
            " 1   vendor_id           1458644 non-null  int64  \n",
            " 2   passenger_count     1458644 non-null  int64  \n",
            " 3   pickup_longitude    1458644 non-null  float64\n",
            " 4   pickup_latitude     1458644 non-null  float64\n",
            " 5   dropoff_longitude   1458644 non-null  float64\n",
            " 6   dropoff_latitude    1458644 non-null  float64\n",
            " 7   store_and_fwd_flag  1458644 non-null  object \n",
            " 8   trip_duration       1458644 non-null  int64  \n",
            " 9   weekday             1458644 non-null  int64  \n",
            " 10  month               1458644 non-null  int64  \n",
            " 11  pickup_hour         1458644 non-null  int64  \n",
            " 12  dropoff_hour        1458644 non-null  int64  \n",
            "dtypes: float64(4), int64(7), object(2)\n",
            "memory usage: 144.7+ MB\n"
          ]
        }
      ],
      "source": [
        "# After the above transformation\n",
        "df.info()"
      ]
    },
    {
      "cell_type": "code",
      "execution_count": 66,
      "metadata": {
        "id": "mcMyuD3Q5qgL"
      },
      "outputs": [],
      "source": []
    },
    {
      "cell_type": "markdown",
      "metadata": {
        "id": "3asCN04sdmLR"
      },
      "source": [
        "## Trip duration"
      ]
    },
    {
      "cell_type": "code",
      "execution_count": 67,
      "metadata": {
        "colab": {
          "base_uri": "https://localhost:8080/"
        },
        "id": "rpGehYN8dqP_",
        "outputId": "a99da7c3-868a-4984-8889-ccebc14e0acf"
      },
      "outputs": [
        {
          "output_type": "execute_result",
          "data": {
            "text/plain": [
              "207497           1\n",
              "1382872          1\n",
              "1360664          1\n",
              "346102           1\n",
              "1034341          1\n",
              "            ...   \n",
              "1234291      86392\n",
              "355003     1939736\n",
              "680594     2049578\n",
              "924150     2227612\n",
              "978383     3526282\n",
              "Name: trip_duration, Length: 1458644, dtype: int64"
            ]
          },
          "metadata": {},
          "execution_count": 67
        }
      ],
      "source": [
        "df['trip_duration'].sort_values()"
      ]
    },
    {
      "cell_type": "code",
      "execution_count": 68,
      "metadata": {
        "id": "Aw2a78dWewPA"
      },
      "outputs": [],
      "source": [
        "# Get rid of the extreme values.\n",
        "# df = df[df['trip_duration'] < 100000]"
      ]
    },
    {
      "cell_type": "code",
      "execution_count": 69,
      "metadata": {
        "colab": {
          "base_uri": "https://localhost:8080/",
          "height": 697
        },
        "id": "VQbjTP7edqNj",
        "outputId": "7ef75a1c-98f5-47aa-9fbe-8d9e3bd3d079"
      },
      "outputs": [
        {
          "output_type": "display_data",
          "data": {
            "text/plain": [
              "<Figure size 1440x360 with 1 Axes>"
            ],
            "image/png": "[encoded data removed]"
          },
          "metadata": {
            "needs_background": "light"
          }
        },
        {
          "output_type": "execute_result",
          "data": {
            "text/plain": [
              "<matplotlib.axes._subplots.AxesSubplot at 0x7f6d9f75f9d0>"
            ]
          },
          "metadata": {},
          "execution_count": 69
        },
        {
          "output_type": "display_data",
          "data": {
            "text/plain": [
              "<Figure size 1440x360 with 1 Axes>"
            ],
            "image/png": "[encoded data removed]"
          },
          "metadata": {
            "needs_background": "light"
          }
        }
      ],
      "source": [
        "# Check out the trip_duration.\n",
        "plt.figure(figsize=(20,5))\n",
        "sns.boxplot(df['trip_duration'], color='orange')\n",
        "plt.title('Trip duration Boxlot')\n",
        "plt.show()\n",
        "plt.figure(figsize=(20,5))\n",
        "sns.distplot(df['trip_duration'])"
      ]
    },
    {
      "cell_type": "code",
      "execution_count": 70,
      "metadata": {
        "id": "ZUehC9QkdqKr"
      },
      "outputs": [],
      "source": [
        "# Create a function that returns upper and lower bounds for removing outliers.\n",
        "def outlier_treatment(feature):\n",
        "  sorted(feature)\n",
        "  Q1,Q3 = np.percentile(feature , [25,75])\n",
        "  IQR = Q3 - Q1\n",
        "  lower_range = Q1 - (1.5 * IQR)\n",
        "  upper_range = Q3 + (1.5 * IQR)\n",
        "  return lower_range,upper_range"
      ]
    },
    {
      "cell_type": "code",
      "execution_count": 71,
      "metadata": {
        "colab": {
          "base_uri": "https://localhost:8080/"
        },
        "id": "Kpn_fVTAdqH-",
        "outputId": "34affb0f-6fb8-4bb1-e5e7-03c5a2fdc7ca"
      },
      "outputs": [
        {
          "output_type": "stream",
          "name": "stdout",
          "text": [
            "lowerbound -620.0,     upperbound 2092.0\n"
          ]
        }
      ],
      "source": [
        "# Get upper/lower bounds for distance.\n",
        "lowerbound,upperbound = outlier_treatment(df['trip_duration'])\n",
        "print(f\"lowerbound {lowerbound},     upperbound {upperbound}\")\n"
      ]
    },
    {
      "cell_type": "code",
      "execution_count": 72,
      "metadata": {
        "id": "1kIqERiwdqFf"
      },
      "outputs": [],
      "source": [
        "# drop the rows with outliers with more then 10 hrs and also remove the trips with zero second time\n",
        "df = df[(df['trip_duration'] < upperbound) & (df['trip_duration'] > 0) ]"
      ]
    },
    {
      "cell_type": "code",
      "execution_count": 73,
      "metadata": {
        "colab": {
          "base_uri": "https://localhost:8080/",
          "height": 560
        },
        "id": "_WB-bIkPdqCe",
        "outputId": "effbe2dd-1394-4ee6-e450-311d454e191e"
      },
      "outputs": [
        {
          "output_type": "display_data",
          "data": {
            "text/plain": [
              "<Figure size 720x216 with 1 Axes>"
            ],
            "image/png": "[encoded data removed]"
          },
          "metadata": {
            "needs_background": "light"
          }
        },
        {
          "output_type": "display_data",
          "data": {
            "text/plain": [
              "<Figure size 1440x360 with 1 Axes>"
            ],
            "image/png": "[encoded data removed]"
          },
          "metadata": {
            "needs_background": "light"
          }
        }
      ],
      "source": [
        "# Check out the trip_duration after removing outlieers\n",
        "plt.figure(figsize=(10,3))\n",
        "sns.boxplot(df['trip_duration'], color='green')\n",
        "plt.title('Trip duration Boxplot after removing outliers')\n",
        "plt.show()\n",
        "plt.figure(figsize=(20,5))\n",
        "sns.distplot(df['trip_duration'])\n",
        "plt.show()"
      ]
    },
    {
      "cell_type": "code",
      "execution_count": 73,
      "metadata": {
        "id": "lZUIgEQndp_o"
      },
      "outputs": [],
      "source": []
    },
    {
      "cell_type": "code",
      "execution_count": 73,
      "metadata": {
        "id": "yMAwek8WiFMJ"
      },
      "outputs": [],
      "source": []
    },
    {
      "cell_type": "markdown",
      "metadata": {
        "id": "vkZNZ1EkrJcu"
      },
      "source": [
        "## Vendor ID"
      ]
    },
    {
      "cell_type": "code",
      "execution_count": 74,
      "metadata": {
        "colab": {
          "base_uri": "https://localhost:8080/"
        },
        "id": "lGMDJN_KFHAE",
        "outputId": "8d69af84-2063-40b2-f597-9de935c0959c"
      },
      "outputs": [
        {
          "output_type": "execute_result",
          "data": {
            "text/plain": [
              "2    738561\n",
              "1    645759\n",
              "Name: vendor_id, dtype: int64"
            ]
          },
          "metadata": {},
          "execution_count": 74
        }
      ],
      "source": [
        "# Value counts for vendot id\n",
        "df.vendor_id.value_counts()"
      ]
    },
    {
      "cell_type": "code",
      "execution_count": 75,
      "metadata": {
        "colab": {
          "base_uri": "https://localhost:8080/",
          "height": 351
        },
        "id": "HmLOaQPjrNaC",
        "outputId": "168c03c6-52df-4bf5-f7ac-e070ff37a128"
      },
      "outputs": [
        {
          "output_type": "display_data",
          "data": {
            "text/plain": [
              "<Figure size 360x360 with 1 Axes>"
            ],
            "image/png": "[encoded data removed]"
          },
          "metadata": {
            "needs_background": "light"
          }
        }
      ],
      "source": [
        "# plot number of trios by each vendors\n",
        "plt.figure(figsize= (5,5))\n",
        "sns.countplot(df['vendor_id'])\n",
        "plt.title(\"Trip count by each vendor\")\n",
        "plt.show()"
      ]
    },
    {
      "cell_type": "code",
      "execution_count": 76,
      "metadata": {
        "colab": {
          "base_uri": "https://localhost:8080/",
          "height": 347
        },
        "id": "UOLiEWoGrNXJ",
        "outputId": "d8e91c66-32be-475f-a268-dc7bc7e73ce6"
      },
      "outputs": [
        {
          "output_type": "display_data",
          "data": {
            "text/plain": [
              "<Figure size 360x360 with 1 Axes>"
            ],
            "image/png": "[encoded data removed]"
          },
          "metadata": {
            "needs_background": "light"
          }
        }
      ],
      "source": [
        "# Trip time comparison for each vendor\n",
        "plt.figure(figsize= (5,5))\n",
        "df.groupby(['vendor_id'])['trip_duration'].sum().plot(kind = 'bar')\n",
        "plt.title('trip duration by each vendor')\n",
        "plt.show()"
      ]
    },
    {
      "cell_type": "markdown",
      "metadata": {
        "id": "AmmHP7kJtxHl"
      },
      "source": [
        "* trip count of bendor 2 is more then vendor 1\n",
        "* also total trip duration in vendor 2 is more thn vendor 1"
      ]
    },
    {
      "cell_type": "markdown",
      "metadata": {
        "id": "0StpK_f-iF6L"
      },
      "source": [
        "## Passenger counts\n"
      ]
    },
    {
      "cell_type": "code",
      "execution_count": 77,
      "metadata": {
        "colab": {
          "base_uri": "https://localhost:8080/"
        },
        "id": "bxy22lA6iFJZ",
        "outputId": "08074f09-241b-4682-8890-b0851280fe22"
      },
      "outputs": [
        {
          "output_type": "execute_result",
          "data": {
            "text/plain": [
              "1    983813\n",
              "2    197618\n",
              "5     73857\n",
              "3     56556\n",
              "6     45799\n",
              "4     26616\n",
              "0        56\n",
              "7         3\n",
              "9         1\n",
              "8         1\n",
              "Name: passenger_count, dtype: int64"
            ]
          },
          "metadata": {},
          "execution_count": 77
        }
      ],
      "source": [
        "# Value counts on passenger_count\n",
        "df['passenger_count'].value_counts()"
      ]
    },
    {
      "cell_type": "code",
      "execution_count": 78,
      "metadata": {
        "colab": {
          "base_uri": "https://localhost:8080/",
          "height": 291
        },
        "id": "W43rC9VQiFGr",
        "outputId": "de560aaa-144a-4ce6-f5ed-27730ffd8190"
      },
      "outputs": [
        {
          "output_type": "display_data",
          "data": {
            "text/plain": [
              "<Figure size 432x288 with 1 Axes>"
            ],
            "image/png": "[encoded data removed]"
          },
          "metadata": {
            "needs_background": "light"
          }
        }
      ],
      "source": [
        "# Count plot on passenger_counts\n",
        "sns.countplot(df['passenger_count'])\n",
        "plt.show()"
      ]
    },
    {
      "cell_type": "markdown",
      "metadata": {
        "id": "XMXFj-GKimly"
      },
      "source": [
        "* ***some values are zero which mean either the trip was cancled or there was an error in the data entry.***\n",
        "* ***7, 8, 9 are extreme cases considering the capacity of a car, so we will get rid of them.***\n",
        "* ***most of the trips contain atmost 1 or 2 passengers.***"
      ]
    },
    {
      "cell_type": "code",
      "execution_count": 79,
      "metadata": {
        "id": "v72M7BdqimGb"
      },
      "outputs": [],
      "source": [
        "# removing rows with unwanted passenger counts\n",
        "df = df[(df['passenger_count'] > 0) & (df['passenger_count'] <=6)]"
      ]
    },
    {
      "cell_type": "code",
      "execution_count": 80,
      "metadata": {
        "colab": {
          "base_uri": "https://localhost:8080/",
          "height": 291
        },
        "id": "F3XVn2lXiFD1",
        "outputId": "b2df8d66-e612-4b17-c187-94b35e2de41c"
      },
      "outputs": [
        {
          "output_type": "display_data",
          "data": {
            "text/plain": [
              "<Figure size 432x288 with 1 Axes>"
            ],
            "image/png": "[encoded data removed]"
          },
          "metadata": {
            "needs_background": "light"
          }
        }
      ],
      "source": [
        "# after removing un wanted passenger counts\n",
        "sns.countplot(df['passenger_count'])\n",
        "plt.show()"
      ]
    },
    {
      "cell_type": "code",
      "execution_count": 80,
      "metadata": {
        "id": "ITUfi3YiiFA1"
      },
      "outputs": [],
      "source": []
    },
    {
      "cell_type": "markdown",
      "metadata": {
        "id": "ymjooItfkeTU"
      },
      "source": [
        "## Pickup and drop off longitude and latitude"
      ]
    },
    {
      "cell_type": "code",
      "execution_count": 81,
      "metadata": {
        "colab": {
          "base_uri": "https://localhost:8080/",
          "height": 610
        },
        "id": "jPX1PBUDRTXJ",
        "outputId": "d8bcf9f4-4714-4148-e647-7b5e14828346"
      },
      "outputs": [
        {
          "output_type": "display_data",
          "data": {
            "text/plain": [
              "<Figure size 432x288 with 1 Axes>"
            ],
            "image/png": "[encoded data removed]"
          },
          "metadata": {
            "needs_background": "light"
          }
        },
        {
          "output_type": "stream",
          "name": "stdout",
          "text": [
            "\n",
            "\n"
          ]
        },
        {
          "output_type": "display_data",
          "data": {
            "text/plain": [
              "<Figure size 432x288 with 1 Axes>"
            ],
            "image/png": "[encoded data removed]"
          },
          "metadata": {
            "needs_background": "light"
          }
        }
      ],
      "source": [
        "# We cereate scatterplot fot the longitude and latitude for pickup and drop off\n",
        "sns.scatterplot(df['pickup_longitude'], df['pickup_latitude'])\n",
        "plt.title(\"Pickup longitude and pickup latitude\")\n",
        "plt.show()\n",
        "print(\"\\n\")\n",
        "sns.scatterplot(df['dropoff_longitude'], df['dropoff_latitude'])\n",
        "plt.title(\"Dropoff longitude and pickup latitude\")\n",
        "plt.show()"
      ]
    },
    {
      "cell_type": "markdown",
      "metadata": {
        "id": "ErrZvPaLR73o"
      },
      "source": [
        "* There are some extreme values in the data\n",
        "* we get rid of them"
      ]
    },
    {
      "cell_type": "code",
      "execution_count": 82,
      "metadata": {
        "id": "QGfZK8YpRTQU"
      },
      "outputs": [],
      "source": [
        "# removing extreme values\n",
        "df = df[(df['pickup_longitude']> -110) & (df['pickup_latitude'] < 50)]\n",
        "df = df[(df['dropoff_longitude']> -110) & (df['dropoff_latitude'] >34)]"
      ]
    },
    {
      "cell_type": "code",
      "execution_count": 83,
      "metadata": {
        "colab": {
          "base_uri": "https://localhost:8080/",
          "height": 610
        },
        "id": "MlzRCsxdRTNA",
        "outputId": "f689caad-371b-4d34-98ca-e0530a9e2869"
      },
      "outputs": [
        {
          "output_type": "display_data",
          "data": {
            "text/plain": [
              "<Figure size 432x288 with 1 Axes>"
            ],
            "image/png": "[encoded data removed]"
          },
          "metadata": {
            "needs_background": "light"
          }
        },
        {
          "output_type": "stream",
          "name": "stdout",
          "text": [
            "\n",
            "\n"
          ]
        },
        {
          "output_type": "display_data",
          "data": {
            "text/plain": [
              "<Figure size 432x288 with 1 Axes>"
            ],
            "image/png": "[encoded data removed]"
          },
          "metadata": {
            "needs_background": "light"
          }
        }
      ],
      "source": [
        "# this is how the data looks like after removing extreme values\n",
        "sns.scatterplot(df['pickup_longitude'], df['pickup_latitude'])\n",
        "plt.title(\"Pickup longitude and pickup latitude\")\n",
        "plt.show()\n",
        "print(\"\\n\")\n",
        "sns.scatterplot(df['dropoff_longitude'], df['dropoff_latitude'])\n",
        "plt.title(\"Dropoff longitude and pickup latitude\")\n",
        "plt.show()"
      ]
    },
    {
      "cell_type": "code",
      "execution_count": 83,
      "metadata": {
        "id": "HbO5sMIURTD0"
      },
      "outputs": [],
      "source": []
    },
    {
      "cell_type": "code",
      "execution_count": 83,
      "metadata": {
        "id": "Ei3VbMFNRTAg"
      },
      "outputs": [],
      "source": []
    },
    {
      "cell_type": "code",
      "execution_count": 84,
      "metadata": {
        "id": "x7NRPTl0kaza"
      },
      "outputs": [],
      "source": [
        "# Function to calculate distance using the haversine function as we are provided with gps data.\n",
        "def calc_distance(df):\n",
        "    pickup = (df['pickup_latitude'], df['pickup_longitude'])\n",
        "    drop = (df['dropoff_latitude'], df['dropoff_longitude'])\n",
        "    return haversine(pickup, drop)"
      ]
    },
    {
      "cell_type": "code",
      "execution_count": 85,
      "metadata": {
        "id": "tKtTvXITSzeQ"
      },
      "outputs": [],
      "source": [
        "# Calculate distance \n",
        "df['distance'] = df.apply(lambda x: calc_distance(x), axis = 1)\n"
      ]
    },
    {
      "cell_type": "code",
      "execution_count": 86,
      "metadata": {
        "colab": {
          "base_uri": "https://localhost:8080/",
          "height": 350
        },
        "id": "EFvsgtph7-Iz",
        "outputId": "595a6d21-ea0c-4a3c-e519-0be14da131cc"
      },
      "outputs": [
        {
          "output_type": "display_data",
          "data": {
            "text/plain": [
              "<Figure size 1080x360 with 1 Axes>"
            ],
            "image/png": "[encoded data removed]"
          },
          "metadata": {
            "needs_background": "light"
          }
        }
      ],
      "source": [
        "# Boxplot on Distance feature\n",
        "plt.figure(figsize= (15,5))\n",
        "sns.boxplot(df['distance'])\n",
        "plt.title('Boxplot on Distance feature')\n",
        "plt.show()"
      ]
    },
    {
      "cell_type": "markdown",
      "metadata": {
        "id": "HAPOjd7EEUu7"
      },
      "source": [
        "There are outliers in the data. To remove outliers, we will be using the IQR method."
      ]
    },
    {
      "cell_type": "code",
      "execution_count": 86,
      "metadata": {
        "id": "WVawFd1LSs54"
      },
      "outputs": [],
      "source": []
    },
    {
      "cell_type": "code",
      "execution_count": 87,
      "metadata": {
        "id": "ag1Zv6DqEhcU"
      },
      "outputs": [],
      "source": [
        "# Create a function that returns upper and lower bounds for removing outliers.\n",
        "def outlier_treatment(feature):\n",
        "  sorted(feature)\n",
        "  Q1,Q3 = np.percentile(feature , [25,75])\n",
        "  IQR = Q3 - Q1\n",
        "  lower_range = Q1 - (1.5 * IQR)\n",
        "  upper_range = Q3 + (1.5 * IQR)\n",
        "  return lower_range,upper_range"
      ]
    },
    {
      "cell_type": "code",
      "execution_count": 88,
      "metadata": {
        "colab": {
          "base_uri": "https://localhost:8080/"
        },
        "id": "3aQAL_6NEuOy",
        "outputId": "020cbc5b-82d3-4fce-b112-836940bf5e1a"
      },
      "outputs": [
        {
          "output_type": "stream",
          "name": "stdout",
          "text": [
            "lowerbound -2.2328428324508605,     upperbound 6.916788366936758\n"
          ]
        }
      ],
      "source": [
        "# Get upper/lower bounds for distance.\n",
        "lowerbound,upperbound = outlier_treatment(df['distance'])\n",
        "print(f\"lowerbound {lowerbound},     upperbound {upperbound}\")\n"
      ]
    },
    {
      "cell_type": "markdown",
      "metadata": {
        "id": "KvMY2hub8euE"
      },
      "source": [
        "To clean the data we use upper bound from the IQR method and for lower bound we use 0.1. \n"
      ]
    },
    {
      "cell_type": "code",
      "execution_count": 89,
      "metadata": {
        "id": "Y3X_uAFkmOzT"
      },
      "outputs": [],
      "source": [
        "# Get rid of zero distance  and distances less then 100 km\n",
        "df = df[(df['distance'] > 0) & (df['distance'] < upperbound )]"
      ]
    },
    {
      "cell_type": "code",
      "execution_count": 90,
      "metadata": {
        "colab": {
          "base_uri": "https://localhost:8080/",
          "height": 350
        },
        "id": "eQWhdct9iE4p",
        "outputId": "3ada7723-a7ae-46d6-dc52-e82008ca714b"
      },
      "outputs": [
        {
          "output_type": "display_data",
          "data": {
            "text/plain": [
              "<Figure size 720x360 with 1 Axes>"
            ],
            "image/png": "[encoded data removed]"
          },
          "metadata": {
            "needs_background": "light"
          }
        }
      ],
      "source": [
        "# After removing the outliers\n",
        "plt.figure(figsize= (10,5))\n",
        "sns.boxplot(df['distance'], color= 'green')\n",
        "plt.title('Boxplot on Distance feature after removing outliers')\n",
        "plt.show()"
      ]
    },
    {
      "cell_type": "markdown",
      "metadata": {
        "id": "tcTyibsdXVwV"
      },
      "source": [
        "## store_and_fwd_flag."
      ]
    },
    {
      "cell_type": "code",
      "execution_count": 91,
      "metadata": {
        "colab": {
          "base_uri": "https://localhost:8080/"
        },
        "id": "AY1cGujvXY4n",
        "outputId": "319fe346-8736-4e58-bcab-eccee9dd37f4"
      },
      "outputs": [
        {
          "output_type": "execute_result",
          "data": {
            "text/plain": [
              "N    1264779\n",
              "Y       6055\n",
              "Name: store_and_fwd_flag, dtype: int64"
            ]
          },
          "metadata": {},
          "execution_count": 91
        }
      ],
      "source": [
        "df['store_and_fwd_flag'].value_counts()"
      ]
    },
    {
      "cell_type": "code",
      "execution_count": 92,
      "metadata": {
        "colab": {
          "base_uri": "https://localhost:8080/",
          "height": 346
        },
        "id": "-Btu9rGVXY16",
        "outputId": "37586767-f3fb-4b48-fd14-9383ee904fab"
      },
      "outputs": [
        {
          "output_type": "display_data",
          "data": {
            "text/plain": [
              "<Figure size 504x360 with 1 Axes>"
            ],
            "image/png": "[encoded data removed]"
          },
          "metadata": {
            "needs_background": "light"
          }
        }
      ],
      "source": [
        "# Plot it.\n",
        "fig = plt.figure(figsize=(7,5))\n",
        "plot = sns.countplot(df['store_and_fwd_flag'], palette='gist_heat')\n",
        "plt.show()"
      ]
    },
    {
      "cell_type": "markdown",
      "metadata": {
        "id": "IGCViw9AYd_4"
      },
      "source": [
        "* most of the data values are N and only few values are Y, which means most of the data was uploaded directly without storing it and forwarding.\n",
        "* this ia a categorical feature which we will be converting into numeric by getting dummies."
      ]
    },
    {
      "cell_type": "markdown",
      "metadata": {
        "id": "OMQLvF3DKNhE"
      },
      "source": [
        "## Pickup_datetime / Dropoff_datetime"
      ]
    },
    {
      "cell_type": "code",
      "source": [],
      "metadata": {
        "id": "lvmT1HTN3rPG"
      },
      "execution_count": 92,
      "outputs": []
    },
    {
      "cell_type": "code",
      "execution_count": 93,
      "metadata": {
        "colab": {
          "base_uri": "https://localhost:8080/",
          "height": 1000
        },
        "id": "1xc2DVuciIX_",
        "outputId": "72389fff-ee1f-4f13-932e-106bd83b0319"
      },
      "outputs": [
        {
          "output_type": "display_data",
          "data": {
            "text/plain": [
              "<Figure size 720x216 with 1 Axes>"
            ],
            "image/png": "[encoded data removed]"
          },
          "metadata": {
            "needs_background": "light"
          }
        },
        {
          "output_type": "stream",
          "name": "stdout",
          "text": [
            "\n",
            " \n",
            "\n"
          ]
        },
        {
          "output_type": "display_data",
          "data": {
            "text/plain": [
              "<Figure size 720x216 with 1 Axes>"
            ],
            "image/png": "[encoded data removed]"
          },
          "metadata": {
            "needs_background": "light"
          }
        },
        {
          "output_type": "stream",
          "name": "stdout",
          "text": [
            "\n",
            " \n",
            "\n"
          ]
        },
        {
          "output_type": "display_data",
          "data": {
            "text/plain": [
              "<Figure size 720x216 with 1 Axes>"
            ],
            "image/png": "[encoded data removed]"
          },
          "metadata": {
            "needs_background": "light"
          }
        },
        {
          "output_type": "stream",
          "name": "stdout",
          "text": [
            "\n",
            " \n",
            "\n"
          ]
        },
        {
          "output_type": "display_data",
          "data": {
            "text/plain": [
              "<Figure size 720x216 with 1 Axes>"
            ],
            "image/png": "[encoded data removed]"
          },
          "metadata": {
            "needs_background": "light"
          }
        },
        {
          "output_type": "stream",
          "name": "stdout",
          "text": [
            "\n",
            " \n",
            "\n"
          ]
        }
      ],
      "source": [
        "# pointplot on hour, month and weekdays\n",
        "features = ['weekday', 'month','pickup_hour', 'dropoff_hour']\n",
        "for feature in features:\n",
        "    fig = plt.figure(figsize=(10,3))\n",
        "    sns.pointplot(x= df[feature], y= df['trip_duration'])\n",
        "    plt.title(f'{feature} vs trip_duration')\n",
        "    plt.show()\n",
        "    print(\"\\n \\n\")"
      ]
    },
    {
      "cell_type": "markdown",
      "metadata": {
        "id": "-wyLItyKP2E5"
      },
      "source": [
        "* ***Commute is least in early morning and late night.***\n",
        "* ***trip duration decreases as the weekend approches, it makes sense as most of the people either stay at home or go for vacations.***\n",
        "* ***trip duration increases after Feburary***.\n"
      ]
    },
    {
      "cell_type": "markdown",
      "metadata": {
        "id": "xvb83ny-RlIB"
      },
      "source": [
        "# Feature engineering and Data Preparition\n"
      ]
    },
    {
      "cell_type": "code",
      "execution_count": 94,
      "metadata": {
        "colab": {
          "base_uri": "https://localhost:8080/"
        },
        "id": "B3IZErCcvPyb",
        "outputId": "9516c723-19bd-4044-c1df-6f636a4ce64d"
      },
      "outputs": [
        {
          "output_type": "execute_result",
          "data": {
            "text/plain": [
              "Index(['id', 'vendor_id', 'passenger_count', 'pickup_longitude',\n",
              "       'pickup_latitude', 'dropoff_longitude', 'dropoff_latitude',\n",
              "       'store_and_fwd_flag', 'trip_duration', 'weekday', 'month',\n",
              "       'pickup_hour', 'dropoff_hour', 'distance'],\n",
              "      dtype='object')"
            ]
          },
          "metadata": {},
          "execution_count": 94
        }
      ],
      "source": [
        "df.columns"
      ]
    },
    {
      "cell_type": "code",
      "execution_count": 95,
      "metadata": {
        "id": "nOWrnrPKxqxB"
      },
      "outputs": [],
      "source": [
        "# Since there are total 24 different values in these two columns it would be better to categorize them and get dummies for them.\n",
        "\n",
        "# Function to convert pickup/dropoff hours to category.\n",
        "\n",
        "def hour_category(hour):\n",
        "    if hour>=7 and hour<=10:\n",
        "        return 'morning(7-9)'\n",
        "    elif hour>10 and hour<16:\n",
        "        return 'afternoon(9-16)'\n",
        "    elif hour>=16 and hour<=19:\n",
        "        return 'evening(16-19)'\n",
        "    elif hour>19 and hour <= 23:\n",
        "        return 'night(20-23)'\n",
        "    else:\n",
        "        return 'latenight(23 onwards)'\n"
      ]
    },
    {
      "cell_type": "code",
      "execution_count": 96,
      "metadata": {
        "id": "suOmjV74MY1P"
      },
      "outputs": [],
      "source": [
        "#  apply hour category to hour column\n",
        "df['pickup_time'] = df['pickup_hour'].apply(lambda x: hour_category(x))\n",
        "df['dropoff_time'] = df['dropoff_hour'].apply(lambda x: hour_category(x))\n",
        "# drop hour colun\n",
        "df.drop(columns= ['pickup_hour', 'dropoff_hour'], inplace= True)"
      ]
    },
    {
      "cell_type": "code",
      "execution_count": 98,
      "metadata": {
        "colab": {
          "base_uri": "https://localhost:8080/",
          "height": 459
        },
        "id": "f21Wq7zXMeAf",
        "outputId": "74f47097-5b42-40ac-a27b-7f68d32a9d79"
      },
      "outputs": [
        {
          "output_type": "display_data",
          "data": {
            "text/plain": [
              "<Figure size 1080x504 with 1 Axes>"
            ],
            "image/png": "[encoded data removed]"
          },
          "metadata": {
            "needs_background": "light"
          }
        }
      ],
      "source": [
        "plt.figure(figsize=(15,7))\n",
        "sns.countplot(df['pickup_time'])\n",
        "plt.title(\"count plot on pickup hour\")\n",
        "plt.show()"
      ]
    },
    {
      "cell_type": "code",
      "execution_count": 99,
      "metadata": {
        "colab": {
          "base_uri": "https://localhost:8080/"
        },
        "id": "hXx6dEsKzTYf",
        "outputId": "0b78ec32-23eb-4477-b1ef-6369354c03da"
      },
      "outputs": [
        {
          "output_type": "execute_result",
          "data": {
            "text/plain": [
              "Index(['id', 'vendor_id', 'passenger_count', 'pickup_longitude',\n",
              "       'pickup_latitude', 'dropoff_longitude', 'dropoff_latitude',\n",
              "       'store_and_fwd_flag', 'trip_duration', 'weekday', 'month', 'distance',\n",
              "       'pickup_time', 'dropoff_time'],\n",
              "      dtype='object')"
            ]
          },
          "metadata": {},
          "execution_count": 99
        }
      ],
      "source": [
        "df.columns"
      ]
    },
    {
      "cell_type": "code",
      "execution_count": 111,
      "metadata": {
        "id": "34DmybBckzS0"
      },
      "outputs": [],
      "source": [
        "# drop some colums\n",
        "df.drop(columns = ['id'], inplace = True)"
      ]
    },
    {
      "cell_type": "code",
      "execution_count": 102,
      "metadata": {
        "colab": {
          "base_uri": "https://localhost:8080/"
        },
        "id": "yaJLNuw1k0uw",
        "outputId": "7c0e4cd0-2bd8-4739-e248-30bdd6ead719"
      },
      "outputs": [
        {
          "output_type": "execute_result",
          "data": {
            "text/plain": [
              "Index(['vendor_id', 'passenger_count', 'pickup_longitude', 'pickup_latitude',\n",
              "       'dropoff_longitude', 'dropoff_latitude', 'store_and_fwd_flag',\n",
              "       'trip_duration', 'weekday', 'month', 'distance', 'pickup_time',\n",
              "       'dropoff_time'],\n",
              "      dtype='object')"
            ]
          },
          "metadata": {},
          "execution_count": 102
        }
      ],
      "source": [
        "df.columns"
      ]
    },
    {
      "cell_type": "code",
      "execution_count": 103,
      "metadata": {
        "id": "SYjxv8zbRmdN"
      },
      "outputs": [],
      "source": [
        "# One hot encoding\n",
        "df = pd.get_dummies(df, columns= ['vendor_id', 'passenger_count','store_and_fwd_flag', 'weekday', 'month', 'pickup_time', 'dropoff_time'], drop_first= True)"
      ]
    },
    {
      "cell_type": "code",
      "execution_count": 104,
      "metadata": {
        "colab": {
          "base_uri": "https://localhost:8080/"
        },
        "id": "p8nJFOndSYu0",
        "outputId": "d06efd0d-65d9-4cda-9733-0d6c28489f52"
      },
      "outputs": [
        {
          "output_type": "execute_result",
          "data": {
            "text/plain": [
              "Index(['pickup_longitude', 'pickup_latitude', 'dropoff_longitude',\n",
              "       'dropoff_latitude', 'trip_duration', 'distance', 'vendor_id_2',\n",
              "       'passenger_count_2', 'passenger_count_3', 'passenger_count_4',\n",
              "       'passenger_count_5', 'passenger_count_6', 'store_and_fwd_flag_Y',\n",
              "       'weekday_1', 'weekday_2', 'weekday_3', 'weekday_4', 'weekday_5',\n",
              "       'weekday_6', 'month_2', 'month_3', 'month_4', 'month_5', 'month_6',\n",
              "       'pickup_time_evening(16-19)', 'pickup_time_latenight(23 onwards)',\n",
              "       'pickup_time_morning(7-9)', 'pickup_time_night(20-23)',\n",
              "       'dropoff_time_evening(16-19)', 'dropoff_time_latenight(23 onwards)',\n",
              "       'dropoff_time_morning(7-9)', 'dropoff_time_night(20-23)'],\n",
              "      dtype='object')"
            ]
          },
          "metadata": {},
          "execution_count": 104
        }
      ],
      "source": [
        "df.columns"
      ]
    },
    {
      "cell_type": "code",
      "execution_count": 105,
      "metadata": {
        "colab": {
          "base_uri": "https://localhost:8080/",
          "height": 1000
        },
        "id": "0X8EmFu_YILw",
        "outputId": "8d3efe08-f302-4d36-cc72-e4d6ce3e1f71"
      },
      "outputs": [
        {
          "output_type": "execute_result",
          "data": {
            "text/plain": [
              "                                             0           1           3  \\\n",
              "pickup_longitude                    -73.982155  -73.980415  -74.010040   \n",
              "pickup_latitude                      40.767937   40.738564   40.719971   \n",
              "dropoff_longitude                   -73.964630  -73.999481  -74.012268   \n",
              "dropoff_latitude                     40.765602   40.731152   40.706718   \n",
              "trip_duration                       455.000000  663.000000  429.000000   \n",
              "distance                              1.498523    1.805510    1.485500   \n",
              "vendor_id_2                           1.000000    0.000000    1.000000   \n",
              "passenger_count_2                     0.000000    0.000000    0.000000   \n",
              "passenger_count_3                     0.000000    0.000000    0.000000   \n",
              "passenger_count_4                     0.000000    0.000000    0.000000   \n",
              "passenger_count_5                     0.000000    0.000000    0.000000   \n",
              "passenger_count_6                     0.000000    0.000000    0.000000   \n",
              "store_and_fwd_flag_Y                  0.000000    0.000000    0.000000   \n",
              "weekday_1                             0.000000    0.000000    0.000000   \n",
              "weekday_2                             0.000000    0.000000    1.000000   \n",
              "weekday_3                             0.000000    0.000000    0.000000   \n",
              "weekday_4                             0.000000    0.000000    0.000000   \n",
              "weekday_5                             0.000000    0.000000    0.000000   \n",
              "weekday_6                             0.000000    1.000000    0.000000   \n",
              "month_2                               0.000000    0.000000    0.000000   \n",
              "month_3                               1.000000    0.000000    0.000000   \n",
              "month_4                               0.000000    0.000000    1.000000   \n",
              "month_5                               0.000000    0.000000    0.000000   \n",
              "month_6                               0.000000    1.000000    0.000000   \n",
              "pickup_time_evening(16-19)            1.000000    0.000000    1.000000   \n",
              "pickup_time_latenight(23 onwards)     0.000000    1.000000    0.000000   \n",
              "pickup_time_morning(7-9)              0.000000    0.000000    0.000000   \n",
              "pickup_time_night(20-23)              0.000000    0.000000    0.000000   \n",
              "dropoff_time_evening(16-19)           1.000000    0.000000    1.000000   \n",
              "dropoff_time_latenight(23 onwards)    0.000000    1.000000    0.000000   \n",
              "dropoff_time_morning(7-9)             0.000000    0.000000    0.000000   \n",
              "dropoff_time_night(20-23)             0.000000    0.000000    0.000000   \n",
              "\n",
              "                                             4           5  \n",
              "pickup_longitude                    -73.973053  -73.982857  \n",
              "pickup_latitude                      40.793209   40.742195  \n",
              "dropoff_longitude                   -73.972923  -73.992081  \n",
              "dropoff_latitude                     40.782520   40.749184  \n",
              "trip_duration                       435.000000  443.000000  \n",
              "distance                              1.188590    1.098944  \n",
              "vendor_id_2                           1.000000    1.000000  \n",
              "passenger_count_2                     0.000000    0.000000  \n",
              "passenger_count_3                     0.000000    0.000000  \n",
              "passenger_count_4                     0.000000    0.000000  \n",
              "passenger_count_5                     0.000000    0.000000  \n",
              "passenger_count_6                     0.000000    1.000000  \n",
              "store_and_fwd_flag_Y                  0.000000    0.000000  \n",
              "weekday_1                             0.000000    0.000000  \n",
              "weekday_2                             0.000000    0.000000  \n",
              "weekday_3                             0.000000    0.000000  \n",
              "weekday_4                             0.000000    0.000000  \n",
              "weekday_5                             1.000000    1.000000  \n",
              "weekday_6                             0.000000    0.000000  \n",
              "month_2                               0.000000    0.000000  \n",
              "month_3                               1.000000    0.000000  \n",
              "month_4                               0.000000    0.000000  \n",
              "month_5                               0.000000    0.000000  \n",
              "month_6                               0.000000    0.000000  \n",
              "pickup_time_evening(16-19)            0.000000    0.000000  \n",
              "pickup_time_latenight(23 onwards)     0.000000    0.000000  \n",
              "pickup_time_morning(7-9)              0.000000    0.000000  \n",
              "pickup_time_night(20-23)              0.000000    1.000000  \n",
              "dropoff_time_evening(16-19)           0.000000    0.000000  \n",
              "dropoff_time_latenight(23 onwards)    0.000000    0.000000  \n",
              "dropoff_time_morning(7-9)             0.000000    0.000000  \n",
              "dropoff_time_night(20-23)             0.000000    1.000000  "
            ],
            "text/html": [
              "\n",
              "  <div id=\"df-dfcdc83a-b8a6-469a-b6cd-3d2fffd6cccd\">\n",
              "    <div class=\"colab-df-container\">\n",
              "      <div>\n",
              "<style scoped>\n",
              "    .dataframe tbody tr th:only-of-type {\n",
              "        vertical-align: middle;\n",
              "    }\n",
              "\n",
              "    .dataframe tbody tr th {\n",
              "        vertical-align: top;\n",
              "    }\n",
              "\n",
              "    .dataframe thead th {\n",
              "        text-align: right;\n",
              "    }\n",
              "</style>\n",
              "<table border=\"1\" class=\"dataframe\">\n",
              "  <thead>\n",
              "    <tr style=\"text-align: right;\">\n",
              "      <th></th>\n",
              "      <th>0</th>\n",
              "      <th>1</th>\n",
              "      <th>3</th>\n",
              "      <th>4</th>\n",
              "      <th>5</th>\n",
              "    </tr>\n",
              "  </thead>\n",
              "  <tbody>\n",
              "    <tr>\n",
              "      <th>pickup_longitude</th>\n",
              "      <td>-73.982155</td>\n",
              "      <td>-73.980415</td>\n",
              "      <td>-74.010040</td>\n",
              "      <td>-73.973053</td>\n",
              "      <td>-73.982857</td>\n",
              "    </tr>\n",
              "    <tr>\n",
              "      <th>pickup_latitude</th>\n",
              "      <td>40.767937</td>\n",
              "      <td>40.738564</td>\n",
              "      <td>40.719971</td>\n",
              "      <td>40.793209</td>\n",
              "      <td>40.742195</td>\n",
              "    </tr>\n",
              "    <tr>\n",
              "      <th>dropoff_longitude</th>\n",
              "      <td>-73.964630</td>\n",
              "      <td>-73.999481</td>\n",
              "      <td>-74.012268</td>\n",
              "      <td>-73.972923</td>\n",
              "      <td>-73.992081</td>\n",
              "    </tr>\n",
              "    <tr>\n",
              "      <th>dropoff_latitude</th>\n",
              "      <td>40.765602</td>\n",
              "      <td>40.731152</td>\n",
              "      <td>40.706718</td>\n",
              "      <td>40.782520</td>\n",
              "      <td>40.749184</td>\n",
              "    </tr>\n",
              "    <tr>\n",
              "      <th>trip_duration</th>\n",
              "      <td>455.000000</td>\n",
              "      <td>663.000000</td>\n",
              "      <td>429.000000</td>\n",
              "      <td>435.000000</td>\n",
              "      <td>443.000000</td>\n",
              "    </tr>\n",
              "    <tr>\n",
              "      <th>distance</th>\n",
              "      <td>1.498523</td>\n",
              "      <td>1.805510</td>\n",
              "      <td>1.485500</td>\n",
              "      <td>1.188590</td>\n",
              "      <td>1.098944</td>\n",
              "    </tr>\n",
              "    <tr>\n",
              "      <th>vendor_id_2</th>\n",
              "      <td>1.000000</td>\n",
              "      <td>0.000000</td>\n",
              "      <td>1.000000</td>\n",
              "      <td>1.000000</td>\n",
              "      <td>1.000000</td>\n",
              "    </tr>\n",
              "    <tr>\n",
              "      <th>passenger_count_2</th>\n",
              "      <td>0.000000</td>\n",
              "      <td>0.000000</td>\n",
              "      <td>0.000000</td>\n",
              "      <td>0.000000</td>\n",
              "      <td>0.000000</td>\n",
              "    </tr>\n",
              "    <tr>\n",
              "      <th>passenger_count_3</th>\n",
              "      <td>0.000000</td>\n",
              "      <td>0.000000</td>\n",
              "      <td>0.000000</td>\n",
              "      <td>0.000000</td>\n",
              "      <td>0.000000</td>\n",
              "    </tr>\n",
              "    <tr>\n",
              "      <th>passenger_count_4</th>\n",
              "      <td>0.000000</td>\n",
              "      <td>0.000000</td>\n",
              "      <td>0.000000</td>\n",
              "      <td>0.000000</td>\n",
              "      <td>0.000000</td>\n",
              "    </tr>\n",
              "    <tr>\n",
              "      <th>passenger_count_5</th>\n",
              "      <td>0.000000</td>\n",
              "      <td>0.000000</td>\n",
              "      <td>0.000000</td>\n",
              "      <td>0.000000</td>\n",
              "      <td>0.000000</td>\n",
              "    </tr>\n",
              "    <tr>\n",
              "      <th>passenger_count_6</th>\n",
              "      <td>0.000000</td>\n",
              "      <td>0.000000</td>\n",
              "      <td>0.000000</td>\n",
              "      <td>0.000000</td>\n",
              "      <td>1.000000</td>\n",
              "    </tr>\n",
              "    <tr>\n",
              "      <th>store_and_fwd_flag_Y</th>\n",
              "      <td>0.000000</td>\n",
              "      <td>0.000000</td>\n",
              "      <td>0.000000</td>\n",
              "      <td>0.000000</td>\n",
              "      <td>0.000000</td>\n",
              "    </tr>\n",
              "    <tr>\n",
              "      <th>weekday_1</th>\n",
              "      <td>0.000000</td>\n",
              "      <td>0.000000</td>\n",
              "      <td>0.000000</td>\n",
              "      <td>0.000000</td>\n",
              "      <td>0.000000</td>\n",
              "    </tr>\n",
              "    <tr>\n",
              "      <th>weekday_2</th>\n",
              "      <td>0.000000</td>\n",
              "      <td>0.000000</td>\n",
              "      <td>1.000000</td>\n",
              "      <td>0.000000</td>\n",
              "      <td>0.000000</td>\n",
              "    </tr>\n",
              "    <tr>\n",
              "      <th>weekday_3</th>\n",
              "      <td>0.000000</td>\n",
              "      <td>0.000000</td>\n",
              "      <td>0.000000</td>\n",
              "      <td>0.000000</td>\n",
              "      <td>0.000000</td>\n",
              "    </tr>\n",
              "    <tr>\n",
              "      <th>weekday_4</th>\n",
              "      <td>0.000000</td>\n",
              "      <td>0.000000</td>\n",
              "      <td>0.000000</td>\n",
              "      <td>0.000000</td>\n",
              "      <td>0.000000</td>\n",
              "    </tr>\n",
              "    <tr>\n",
              "      <th>weekday_5</th>\n",
              "      <td>0.000000</td>\n",
              "      <td>0.000000</td>\n",
              "      <td>0.000000</td>\n",
              "      <td>1.000000</td>\n",
              "      <td>1.000000</td>\n",
              "    </tr>\n",
              "    <tr>\n",
              "      <th>weekday_6</th>\n",
              "      <td>0.000000</td>\n",
              "      <td>1.000000</td>\n",
              "      <td>0.000000</td>\n",
              "      <td>0.000000</td>\n",
              "      <td>0.000000</td>\n",
              "    </tr>\n",
              "    <tr>\n",
              "      <th>month_2</th>\n",
              "      <td>0.000000</td>\n",
              "      <td>0.000000</td>\n",
              "      <td>0.000000</td>\n",
              "      <td>0.000000</td>\n",
              "      <td>0.000000</td>\n",
              "    </tr>\n",
              "    <tr>\n",
              "      <th>month_3</th>\n",
              "      <td>1.000000</td>\n",
              "      <td>0.000000</td>\n",
              "      <td>0.000000</td>\n",
              "      <td>1.000000</td>\n",
              "      <td>0.000000</td>\n",
              "    </tr>\n",
              "    <tr>\n",
              "      <th>month_4</th>\n",
              "      <td>0.000000</td>\n",
              "      <td>0.000000</td>\n",
              "      <td>1.000000</td>\n",
              "      <td>0.000000</td>\n",
              "      <td>0.000000</td>\n",
              "    </tr>\n",
              "    <tr>\n",
              "      <th>month_5</th>\n",
              "      <td>0.000000</td>\n",
              "      <td>0.000000</td>\n",
              "      <td>0.000000</td>\n",
              "      <td>0.000000</td>\n",
              "      <td>0.000000</td>\n",
              "    </tr>\n",
              "    <tr>\n",
              "      <th>month_6</th>\n",
              "      <td>0.000000</td>\n",
              "      <td>1.000000</td>\n",
              "      <td>0.000000</td>\n",
              "      <td>0.000000</td>\n",
              "      <td>0.000000</td>\n",
              "    </tr>\n",
              "    <tr>\n",
              "      <th>pickup_time_evening(16-19)</th>\n",
              "      <td>1.000000</td>\n",
              "      <td>0.000000</td>\n",
              "      <td>1.000000</td>\n",
              "      <td>0.000000</td>\n",
              "      <td>0.000000</td>\n",
              "    </tr>\n",
              "    <tr>\n",
              "      <th>pickup_time_latenight(23 onwards)</th>\n",
              "      <td>0.000000</td>\n",
              "      <td>1.000000</td>\n",
              "      <td>0.000000</td>\n",
              "      <td>0.000000</td>\n",
              "      <td>0.000000</td>\n",
              "    </tr>\n",
              "    <tr>\n",
              "      <th>pickup_time_morning(7-9)</th>\n",
              "      <td>0.000000</td>\n",
              "      <td>0.000000</td>\n",
              "      <td>0.000000</td>\n",
              "      <td>0.000000</td>\n",
              "      <td>0.000000</td>\n",
              "    </tr>\n",
              "    <tr>\n",
              "      <th>pickup_time_night(20-23)</th>\n",
              "      <td>0.000000</td>\n",
              "      <td>0.000000</td>\n",
              "      <td>0.000000</td>\n",
              "      <td>0.000000</td>\n",
              "      <td>1.000000</td>\n",
              "    </tr>\n",
              "    <tr>\n",
              "      <th>dropoff_time_evening(16-19)</th>\n",
              "      <td>1.000000</td>\n",
              "      <td>0.000000</td>\n",
              "      <td>1.000000</td>\n",
              "      <td>0.000000</td>\n",
              "      <td>0.000000</td>\n",
              "    </tr>\n",
              "    <tr>\n",
              "      <th>dropoff_time_latenight(23 onwards)</th>\n",
              "      <td>0.000000</td>\n",
              "      <td>1.000000</td>\n",
              "      <td>0.000000</td>\n",
              "      <td>0.000000</td>\n",
              "      <td>0.000000</td>\n",
              "    </tr>\n",
              "    <tr>\n",
              "      <th>dropoff_time_morning(7-9)</th>\n",
              "      <td>0.000000</td>\n",
              "      <td>0.000000</td>\n",
              "      <td>0.000000</td>\n",
              "      <td>0.000000</td>\n",
              "      <td>0.000000</td>\n",
              "    </tr>\n",
              "    <tr>\n",
              "      <th>dropoff_time_night(20-23)</th>\n",
              "      <td>0.000000</td>\n",
              "      <td>0.000000</td>\n",
              "      <td>0.000000</td>\n",
              "      <td>0.000000</td>\n",
              "      <td>1.000000</td>\n",
              "    </tr>\n",
              "  </tbody>\n",
              "</table>\n",
              "</div>\n",
              "      <button class=\"colab-df-convert\" onclick=\"convertToInteractive('df-dfcdc83a-b8a6-469a-b6cd-3d2fffd6cccd')\"\n",
              "              title=\"Convert this dataframe to an interactive table.\"\n",
              "              style=\"display:none;\">\n",
              "        \n",
              "  <svg xmlns=\"http://www.w3.org/2000/svg\" height=\"24px\"viewBox=\"0 0 24 24\"\n",
              "       width=\"24px\">\n",
              "    <path d=\"M0 0h24v24H0V0z\" fill=\"none\"/>\n",
              "    <path d=\"M18.56 5.44l.94 2.06.94-2.06 2.06-.94-2.06-.94-.94-2.06-.94 2.06-2.06.94zm-11 1L8.5 8.5l.94-2.06 2.06-.94-2.06-.94L8.5 2.5l-.94 2.06-2.06.94zm10 10l.94 2.06.94-2.06 2.06-.94-2.06-.94-.94-2.06-.94 2.06-2.06.94z\"/><path d=\"M17.41 7.96l-1.37-1.37c-.4-.4-.92-.59-1.43-.59-.52 0-1.04.2-1.43.59L10.3 9.45l-7.72 7.72c-.78.78-.78 2.05 0 2.83L4 21.41c.39.39.9.59 1.41.59.51 0 1.02-.2 1.41-.59l7.78-7.78 2.81-2.81c.8-.78.8-2.07 0-2.86zM5.41 20L4 18.59l7.72-7.72 1.47 1.35L5.41 20z\"/>\n",
              "  </svg>\n",
              "      </button>\n",
              "      \n",
              "  <style>\n",
              "    .colab-df-container {\n",
              "      display:flex;\n",
              "      flex-wrap:wrap;\n",
              "      gap: 12px;\n",
              "    }\n",
              "\n",
              "    .colab-df-convert {\n",
              "      background-color: #E8F0FE;\n",
              "      border: none;\n",
              "      border-radius: 50%;\n",
              "      cursor: pointer;\n",
              "      display: none;\n",
              "      fill: #1967D2;\n",
              "      height: 32px;\n",
              "      padding: 0 0 0 0;\n",
              "      width: 32px;\n",
              "    }\n",
              "\n",
              "    .colab-df-convert:hover {\n",
              "      background-color: #E2EBFA;\n",
              "      box-shadow: 0px 1px 2px rgba(60, 64, 67, 0.3), 0px 1px 3px 1px rgba(60, 64, 67, 0.15);\n",
              "      fill: #174EA6;\n",
              "    }\n",
              "\n",
              "    [theme=dark] .colab-df-convert {\n",
              "      background-color: #3B4455;\n",
              "      fill: #D2E3FC;\n",
              "    }\n",
              "\n",
              "    [theme=dark] .colab-df-convert:hover {\n",
              "      background-color: #434B5C;\n",
              "      box-shadow: 0px 1px 3px 1px rgba(0, 0, 0, 0.15);\n",
              "      filter: drop-shadow(0px 1px 2px rgba(0, 0, 0, 0.3));\n",
              "      fill: #FFFFFF;\n",
              "    }\n",
              "  </style>\n",
              "\n",
              "      <script>\n",
              "        const buttonEl =\n",
              "          document.querySelector('#df-dfcdc83a-b8a6-469a-b6cd-3d2fffd6cccd button.colab-df-convert');\n",
              "        buttonEl.style.display =\n",
              "          google.colab.kernel.accessAllowed ? 'block' : 'none';\n",
              "\n",
              "        async function convertToInteractive(key) {\n",
              "          const element = document.querySelector('#df-dfcdc83a-b8a6-469a-b6cd-3d2fffd6cccd');\n",
              "          const dataTable =\n",
              "            await google.colab.kernel.invokeFunction('convertToInteractive',\n",
              "                                                     [key], {});\n",
              "          if (!dataTable) return;\n",
              "\n",
              "          const docLinkHtml = 'Like what you see? Visit the ' +\n",
              "            '<a target=\"_blank\" href=https://colab.research.google.com/notebooks/data_table.ipynb>data table notebook</a>'\n",
              "            + ' to learn more about interactive tables.';\n",
              "          element.innerHTML = '';\n",
              "          dataTable['output_type'] = 'display_data';\n",
              "          await google.colab.output.renderOutput(dataTable, element);\n",
              "          const docLink = document.createElement('div');\n",
              "          docLink.innerHTML = docLinkHtml;\n",
              "          element.appendChild(docLink);\n",
              "        }\n",
              "      </script>\n",
              "    </div>\n",
              "  </div>\n",
              "  "
            ]
          },
          "metadata": {},
          "execution_count": 105
        }
      ],
      "source": [
        "df.head().T"
      ]
    },
    {
      "cell_type": "code",
      "execution_count": 106,
      "metadata": {
        "colab": {
          "base_uri": "https://localhost:8080/"
        },
        "id": "ahqTl_2pS6ok",
        "outputId": "8c902ea0-df57-484b-8b32-2d9accc0d858"
      },
      "outputs": [
        {
          "output_type": "execute_result",
          "data": {
            "text/plain": [
              "(1270834, 32)"
            ]
          },
          "metadata": {},
          "execution_count": 106
        }
      ],
      "source": [
        "df.shape"
      ]
    },
    {
      "cell_type": "code",
      "source": [
        "fig = plt.figure(figsize=(18,12))\n",
        "sns.heatmap(df.corr(), cmap='Paired')\n",
        "plt.show()"
      ],
      "metadata": {
        "colab": {
          "base_uri": "https://localhost:8080/",
          "height": 873
        },
        "id": "ngSajVfC7BZW",
        "outputId": "8feae9de-0396-4416-a111-04e891007c78"
      },
      "execution_count": 109,
      "outputs": [
        {
          "output_type": "display_data",
          "data": {
            "text/plain": [
              "<Figure size 1296x864 with 2 Axes>"
            ],
            "image/png": "[encoded data removed]"
          },
          "metadata": {
            "needs_background": "light"
          }
        }
      ]
    },
    {
      "cell_type": "code",
      "execution_count": 107,
      "metadata": {
        "id": "99IohaBYhZe4"
      },
      "outputs": [],
      "source": []
    },
    {
      "cell_type": "code",
      "execution_count": 108,
      "metadata": {
        "id": "acX-aHoUULEd"
      },
      "outputs": [],
      "source": [
        "dependent_variables = ['trip_duration']\n",
        "independent_variables = [i for i in df.columns if i not in dependent_variables]"
      ]
    },
    {
      "cell_type": "code",
      "execution_count": null,
      "metadata": {
        "id": "Buj1AZ9YWOsU"
      },
      "outputs": [],
      "source": [
        "# get x and y values\n",
        "X = df[independent_variables]\n",
        "y = df[dependent_variables]\n",
        "# Train Test Split.\n",
        "X_train, X_test, y_train, y_test = train_test_split(X, y,test_size=0.2,random_state =5)"
      ]
    },
    {
      "cell_type": "code",
      "execution_count": null,
      "metadata": {
        "id": "yhZVY2ajWnnE"
      },
      "outputs": [],
      "source": [
        "# Scale the data \n",
        "scaler = StandardScaler()\n",
        "X_train = scaler.fit_transform(X_train)\n",
        "X_test = scaler.transform(X_test)"
      ]
    },
    {
      "cell_type": "markdown",
      "metadata": {
        "id": "Vmd3tENjio7X"
      },
      "source": [
        "# Model Selection"
      ]
    },
    {
      "cell_type": "markdown",
      "metadata": {
        "id": "RumyuTBuZ5Bz"
      },
      "source": [
        "**Models we will be building:**\n",
        "* **Linear Regression**\n",
        "* **Decision Tree Regressorr**\n",
        "* **XG Boost Regressor**\n",
        "* **Hist Gradient Boosting Regressor**\n",
        "* **AdaBoostRegressor**\n"
      ]
    },
    {
      "cell_type": "code",
      "execution_count": null,
      "metadata": {
        "id": "_8zIBJtW0l9Q"
      },
      "outputs": [],
      "source": [
        "# Defining the models to be used.\n",
        "models = [\n",
        "            ['Linear Regression', LinearRegression()],\n",
        "          ['Decision Tree Regressor', DecisionTreeRegressor()],\n",
        "          ['XG Boost Regressor', xgb.XGBRegressor()],\n",
        "          ['Hist Gradient Boosting Regressor', HistGradientBoostingRegressor()],\n",
        "          ['AdaBoostRegressor', AdaBoostRegressor()],\n",
        "          ]"
      ]
    },
    {
      "cell_type": "code",
      "execution_count": null,
      "metadata": {
        "id": "8u_GHz3v0l6S"
      },
      "outputs": [],
      "source": [
        "# creating a loop to train all the models and get eveluation metrics\n",
        "model_eveluation_metrices =[]\n",
        "for name, model in models:\n",
        "    working_model ={}\n",
        "    working_model['name'] = name\n",
        "    start = time.time()\n",
        "    model.fit(X_train, y_train)\n",
        "    end = time.time()\n",
        "    working_model['train_time'] = end - start\n",
        "    y_pred_train = model.predict(X_train)\n",
        "    y_pred_test = model.predict(X_test)\n",
        "    working_model[\"Train_R2_Score\"] = r2_score(y_train, y_pred_train)\n",
        "    working_model[\"Test_R2_Score\"] = r2_score(y_test, y_pred_test)\n",
        "    working_model[\"Test_RMSE_Score\"] = np.sqrt(mean_squared_error(y_test, y_pred_test))\n",
        "    model_eveluation_metrices.append(working_model)\n",
        "\n",
        "\n",
        "\n"
      ]
    },
    {
      "cell_type": "code",
      "execution_count": null,
      "metadata": {
        "colab": {
          "base_uri": "https://localhost:8080/",
          "height": 206
        },
        "id": "14MvLWJSa2W5",
        "outputId": "06327bf4-a021-44c9-debd-7b6a7b3db1a1"
      },
      "outputs": [
        {
          "data": {
            "text/html": [
              "<div>\n",
              "<style scoped>\n",
              "    .dataframe tbody tr th:only-of-type {\n",
              "        vertical-align: middle;\n",
              "    }\n",
              "\n",
              "    .dataframe tbody tr th {\n",
              "        vertical-align: top;\n",
              "    }\n",
              "\n",
              "    .dataframe thead th {\n",
              "        text-align: right;\n",
              "    }\n",
              "</style>\n",
              "<table border=\"1\" class=\"dataframe\">\n",
              "  <thead>\n",
              "    <tr style=\"text-align: right;\">\n",
              "      <th></th>\n",
              "      <th>name</th>\n",
              "      <th>train_time</th>\n",
              "      <th>Train_R2_Score</th>\n",
              "      <th>Test_R2_Score</th>\n",
              "      <th>Test_RMSE_Score</th>\n",
              "    </tr>\n",
              "  </thead>\n",
              "  <tbody>\n",
              "    <tr>\n",
              "      <th>0</th>\n",
              "      <td>Linear Regression</td>\n",
              "      <td>0.975460</td>\n",
              "      <td>0.542098</td>\n",
              "      <td>0.540535</td>\n",
              "      <td>269.141373</td>\n",
              "    </tr>\n",
              "    <tr>\n",
              "      <th>1</th>\n",
              "      <td>Decision Tree Regressor</td>\n",
              "      <td>17.781095</td>\n",
              "      <td>1.000000</td>\n",
              "      <td>0.394014</td>\n",
              "      <td>309.090249</td>\n",
              "    </tr>\n",
              "    <tr>\n",
              "      <th>2</th>\n",
              "      <td>XG Boost Regressor</td>\n",
              "      <td>65.460500</td>\n",
              "      <td>0.706406</td>\n",
              "      <td>0.696809</td>\n",
              "      <td>218.631388</td>\n",
              "    </tr>\n",
              "    <tr>\n",
              "      <th>3</th>\n",
              "      <td>Hist Gradient Boosting Regressor</td>\n",
              "      <td>15.928167</td>\n",
              "      <td>0.670807</td>\n",
              "      <td>0.667865</td>\n",
              "      <td>228.829203</td>\n",
              "    </tr>\n",
              "    <tr>\n",
              "      <th>4</th>\n",
              "      <td>AdaBoostRegressor</td>\n",
              "      <td>82.710132</td>\n",
              "      <td>0.380508</td>\n",
              "      <td>0.377837</td>\n",
              "      <td>313.188765</td>\n",
              "    </tr>\n",
              "  </tbody>\n",
              "</table>\n",
              "</div>"
            ],
            "text/plain": [
              "                               name  train_time  Train_R2_Score  \\\n",
              "0                 Linear Regression    0.975460        0.542098   \n",
              "1           Decision Tree Regressor   17.781095        1.000000   \n",
              "2                XG Boost Regressor   65.460500        0.706406   \n",
              "3  Hist Gradient Boosting Regressor   15.928167        0.670807   \n",
              "4                 AdaBoostRegressor   82.710132        0.380508   \n",
              "\n",
              "   Test_R2_Score  Test_RMSE_Score  \n",
              "0       0.540535       269.141373  \n",
              "1       0.394014       309.090249  \n",
              "2       0.696809       218.631388  \n",
              "3       0.667865       228.829203  \n",
              "4       0.377837       313.188765  "
            ]
          },
          "execution_count": 57,
          "metadata": {},
          "output_type": "execute_result"
        }
      ],
      "source": [
        "# Table of eveluation metrices of each Algorithms\n",
        "model_eveluation_metrices_df = pd.DataFrame(model_eveluation_metrices)\n",
        "model_eveluation_metrices_df\n"
      ]
    },
    {
      "cell_type": "markdown",
      "metadata": {
        "id": "C1cVgYBOi11y"
      },
      "source": [
        "Looking at the above Performance Matrix we can say thay XGBoost and Hist Gradient Boosting Regressor are the best model for this dataset. however Hist Gradient Boosting Regressor model takes significantly less time so we decided to tune Hist Gradient Boosting Regressor model."
      ]
    },
    {
      "cell_type": "markdown",
      "metadata": {
        "id": "S7P5uznVkzvR"
      },
      "source": [
        "# Hyperparameter Tuning:"
      ]
    },
    {
      "cell_type": "markdown",
      "metadata": {
        "id": "JoWQVuCtk27g"
      },
      "source": [
        "We will tune the parameters of Hist Gradient Boosting Regressor for better results."
      ]
    },
    {
      "cell_type": "code",
      "execution_count": null,
      "metadata": {
        "id": "w9MKPRCPhCOG"
      },
      "outputs": [],
      "source": [
        "# creating parameters\n",
        "max_depth = [8,10]\n",
        "learning_rate = [0.4,.6]\n",
        "min_samples_leaf = [50,60]\n",
        "max_iter = [400,500]\n",
        "\n",
        "# param_dict\n",
        "param_dict = {\n",
        "    'learning_rate' : learning_rate, \n",
        "    'max_depth' : max_depth, \n",
        "    'min_samples_leaf' : min_samples_leaf ,\n",
        "    'max_iter' : max_iter\n",
        "}"
      ]
    },
    {
      "cell_type": "code",
      "execution_count": null,
      "metadata": {
        "colab": {
          "base_uri": "https://localhost:8080/"
        },
        "id": "GTgyRPx50lsf",
        "outputId": "817107fe-2fff-4159-882a-33ecffd3fc80"
      },
      "outputs": [
        {
          "name": "stdout",
          "output_type": "stream",
          "text": [
            "Fitting 5 folds for each of 10 candidates, totalling 50 fits\n",
            "[CV] END learning_rate=0.6, max_depth=8, max_iter=400, min_samples_leaf=60; total time=  25.8s\n",
            "[CV] END learning_rate=0.6, max_depth=8, max_iter=400, min_samples_leaf=60; total time=  34.7s\n",
            "[CV] END learning_rate=0.6, max_depth=8, max_iter=400, min_samples_leaf=60; total time=  36.7s\n",
            "[CV] END learning_rate=0.6, max_depth=8, max_iter=400, min_samples_leaf=60; total time=  34.3s\n",
            "[CV] END learning_rate=0.6, max_depth=8, max_iter=400, min_samples_leaf=60; total time=  38.8s\n",
            "[CV] END learning_rate=0.4, max_depth=8, max_iter=400, min_samples_leaf=60; total time=  38.4s\n",
            "[CV] END learning_rate=0.4, max_depth=8, max_iter=400, min_samples_leaf=60; total time=  37.3s\n",
            "[CV] END learning_rate=0.4, max_depth=8, max_iter=400, min_samples_leaf=60; total time=  37.2s\n",
            "[CV] END learning_rate=0.4, max_depth=8, max_iter=400, min_samples_leaf=60; total time=  37.7s\n",
            "[CV] END learning_rate=0.4, max_depth=8, max_iter=400, min_samples_leaf=60; total time=  36.4s\n",
            "[CV] END learning_rate=0.6, max_depth=10, max_iter=500, min_samples_leaf=50; total time=  27.5s\n",
            "[CV] END learning_rate=0.6, max_depth=10, max_iter=500, min_samples_leaf=50; total time=  29.7s\n",
            "[CV] END learning_rate=0.6, max_depth=10, max_iter=500, min_samples_leaf=50; total time=  26.9s\n",
            "[CV] END learning_rate=0.6, max_depth=10, max_iter=500, min_samples_leaf=50; total time=  27.3s\n",
            "[CV] END learning_rate=0.6, max_depth=10, max_iter=500, min_samples_leaf=50; total time=  32.8s\n",
            "[CV] END learning_rate=0.4, max_depth=10, max_iter=500, min_samples_leaf=50; total time=  30.6s\n",
            "[CV] END learning_rate=0.4, max_depth=10, max_iter=500, min_samples_leaf=50; total time=  37.3s\n",
            "[CV] END learning_rate=0.4, max_depth=10, max_iter=500, min_samples_leaf=50; total time=  42.9s\n",
            "[CV] END learning_rate=0.4, max_depth=10, max_iter=500, min_samples_leaf=50; total time=  34.6s\n",
            "[CV] END learning_rate=0.4, max_depth=10, max_iter=500, min_samples_leaf=50; total time=  45.7s\n",
            "[CV] END learning_rate=0.4, max_depth=8, max_iter=500, min_samples_leaf=50; total time=  43.4s\n",
            "[CV] END learning_rate=0.4, max_depth=8, max_iter=500, min_samples_leaf=50; total time=  48.4s\n",
            "[CV] END learning_rate=0.4, max_depth=8, max_iter=500, min_samples_leaf=50; total time=  48.0s\n",
            "[CV] END learning_rate=0.4, max_depth=8, max_iter=500, min_samples_leaf=50; total time=  49.4s\n",
            "[CV] END learning_rate=0.4, max_depth=8, max_iter=500, min_samples_leaf=50; total time=  49.5s\n",
            "[CV] END learning_rate=0.4, max_depth=10, max_iter=400, min_samples_leaf=50; total time=  38.4s\n",
            "[CV] END learning_rate=0.4, max_depth=10, max_iter=400, min_samples_leaf=50; total time=  41.4s\n",
            "[CV] END learning_rate=0.4, max_depth=10, max_iter=400, min_samples_leaf=50; total time=  46.6s\n",
            "[CV] END learning_rate=0.4, max_depth=10, max_iter=400, min_samples_leaf=50; total time=  50.0s\n",
            "[CV] END learning_rate=0.4, max_depth=10, max_iter=400, min_samples_leaf=50; total time=  55.1s\n",
            "[CV] END learning_rate=0.4, max_depth=10, max_iter=400, min_samples_leaf=60; total time=  43.8s\n",
            "[CV] END learning_rate=0.4, max_depth=10, max_iter=400, min_samples_leaf=60; total time=  44.2s\n",
            "[CV] END learning_rate=0.4, max_depth=10, max_iter=400, min_samples_leaf=60; total time=  44.2s\n",
            "[CV] END learning_rate=0.4, max_depth=10, max_iter=400, min_samples_leaf=60; total time=  42.1s\n",
            "[CV] END learning_rate=0.4, max_depth=10, max_iter=400, min_samples_leaf=60; total time=  41.8s\n",
            "[CV] END learning_rate=0.6, max_depth=10, max_iter=400, min_samples_leaf=60; total time=  39.7s\n",
            "[CV] END learning_rate=0.6, max_depth=10, max_iter=400, min_samples_leaf=60; total time=  30.9s\n",
            "[CV] END learning_rate=0.6, max_depth=10, max_iter=400, min_samples_leaf=60; total time=  30.4s\n",
            "[CV] END learning_rate=0.6, max_depth=10, max_iter=400, min_samples_leaf=60; total time=  35.2s\n",
            "[CV] END learning_rate=0.6, max_depth=10, max_iter=400, min_samples_leaf=60; total time=  36.9s\n",
            "[CV] END learning_rate=0.6, max_depth=8, max_iter=500, min_samples_leaf=50; total time=  36.4s\n",
            "[CV] END learning_rate=0.6, max_depth=8, max_iter=500, min_samples_leaf=50; total time=  37.5s\n",
            "[CV] END learning_rate=0.6, max_depth=8, max_iter=500, min_samples_leaf=50; total time=  32.9s\n",
            "[CV] END learning_rate=0.6, max_depth=8, max_iter=500, min_samples_leaf=50; total time=  37.6s\n",
            "[CV] END learning_rate=0.6, max_depth=8, max_iter=500, min_samples_leaf=50; total time=  30.5s\n",
            "[CV] END learning_rate=0.4, max_depth=8, max_iter=400, min_samples_leaf=50; total time=  44.4s\n",
            "[CV] END learning_rate=0.4, max_depth=8, max_iter=400, min_samples_leaf=50; total time=  41.5s\n",
            "[CV] END learning_rate=0.4, max_depth=8, max_iter=400, min_samples_leaf=50; total time=  41.7s\n",
            "[CV] END learning_rate=0.4, max_depth=8, max_iter=400, min_samples_leaf=50; total time=  42.5s\n",
            "[CV] END learning_rate=0.4, max_depth=8, max_iter=400, min_samples_leaf=50; total time=  41.5s\n",
            "\n",
            "=========================================================\n",
            "\n",
            "Time required top train   2005.516009569168\n"
          ]
        }
      ],
      "source": [
        "# define the model \n",
        "hgbt = HistGradientBoostingRegressor()\n",
        "#Grid Serch\n",
        "hgbt_grid = RandomizedSearchCV(estimator= hgbt, param_distributions= param_dict, cv = 5, verbose = 2, scoring= 'r2')\n",
        "\n",
        "# Train model\n",
        "start = time.time()\n",
        "hgbt_grid.fit(X_train, y_train)\n",
        "end = time.time()\n",
        "print(\"\\n=========================================================\\n\")\n",
        "print(\"Time required top train  \",end - start)\n"
      ]
    },
    {
      "cell_type": "code",
      "execution_count": null,
      "metadata": {
        "id": "eR0_wNqqk_yD",
        "outputId": "4dfd38d0-1b06-4ff2-cf01-9a1d009a5954"
      },
      "outputs": [
        {
          "name": "stdout",
          "output_type": "stream",
          "text": [
            "\n",
            "=========================================================\n",
            "\n",
            "Best parameters are  \n",
            " {'min_samples_leaf': 50, 'max_iter': 500, 'max_depth': 8, 'learning_rate': 0.4}\n",
            "\n",
            "=========================================================\n",
            "\n",
            "Train_R2_Score  0.7372568000095774\n",
            "Test_R2_Score  0.717591763647963\n",
            "Train_RMSE_Score   203.88610219621287\n",
            "Test_RMSE_Score   211.00499291078603\n",
            "\n",
            "=========================================================\n",
            "\n"
          ]
        }
      ],
      "source": [
        "\n",
        "# Get the parameters\n",
        "print(\"\\n=========================================================\\n\")\n",
        "print(\"Best parameters are  \\n\",hgbt_grid.best_params_)\n",
        "\n",
        "# predit \n",
        "y_train_preds = hgbt_grid.best_estimator_.predict(X_train)\n",
        "y_test_preds = hgbt_grid.best_estimator_.predict(X_test)\n",
        "\n",
        "print(\"\\n=========================================================\\n\")\n",
        "Train_R2_Score = r2_score(y_train,y_train_preds)\n",
        "Train_RMSE_Score = np.sqrt(mean_squared_error(y_train,y_train_preds))\n",
        "\n",
        "Test_R2_Score = r2_score(y_test, y_test_preds)\n",
        "Test_RMSE_Score = np.sqrt(mean_squared_error(y_test, y_test_preds))\n",
        "print(f\"Train_R2_Score  {Train_R2_Score}\")\n",
        "print(f\"Test_R2_Score  {Test_R2_Score}\")\n",
        "print(f\"Train_RMSE_Score   {Train_RMSE_Score}\")\n",
        "print(f\"Test_RMSE_Score   {Test_RMSE_Score}\")\n",
        "print(\"\\n=========================================================\\n\")"
      ]
    },
    {
      "cell_type": "code",
      "execution_count": null,
      "metadata": {
        "id": "dd34pmJj8IEf",
        "outputId": "b3237b35-f651-4c07-c5f0-554009a08296"
      },
      "outputs": [
        {
          "data": {
            "image/png": "[encoded data removed]",
            "text/plain": [
              "<Figure size 1440x360 with 1 Axes>"
            ]
          },
          "metadata": {
            "needs_background": "light"
          },
          "output_type": "display_data"
        }
      ],
      "source": [
        "plt.figure(figsize=(20,5))\n",
        "plt.plot(np.array(y_test_preds)[:200])\n",
        "plt.plot(np.array(y_test)[:200])\n",
        "plt.legend([\"Predicted\",\"Actual\"])\n",
        "plt.show()"
      ]
    },
    {
      "cell_type": "markdown",
      "metadata": {
        "id": "8PwDxRg8-wGB"
      },
      "source": [
        "# Conclusion\n",
        "In this project ,covered various aspects of the Machine learning development cycle amd observed that the data exploration and variable analysis is a very important for the cycle and should be done for thorough understanding of the data. Also cleaned the data while exploring as there were some outliers which should be treated before feature engineering. Further performed feature engineering to filter and gather only the optimal features which are more significant."
      ]
    }
  ],
  "metadata": {
    "colab": {
      "collapsed_sections": [],
      "provenance": [],
      "include_colab_link": true
    },
    "kernelspec": {
      "display_name": "Python 3 (ipykernel)",
      "language": "python",
      "name": "python3"
    },
    "language_info": {
      "codemirror_mode": {
        "name": "ipython",
        "version": 3
      },
      "file_extension": ".py",
      "mimetype": "text/x-python",
      "name": "python",
      "nbconvert_exporter": "python",
      "pygments_lexer": "ipython3",
      "version": "3.9.12"
    }
  },
  "nbformat": 4,
  "nbformat_minor": 0
}