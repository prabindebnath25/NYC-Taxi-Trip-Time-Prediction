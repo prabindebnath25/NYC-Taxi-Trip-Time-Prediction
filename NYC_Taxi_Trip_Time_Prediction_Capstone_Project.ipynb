{
  "cells": [
    {
      "cell_type": "markdown",
      "metadata": {
        "id": "view-in-github",
        "colab_type": "text"
      },
      "source": [
        "<a href=\"https://colab.research.google.com/github/prabindebnath25/NYC-Taxi-Trip-Time-Prediction/blob/main/NYC_Taxi_Trip_Time_Prediction_Capstone_Project.ipynb\" target=\"_parent\"><img src=\"https://colab.research.google.com/assets/colab-badge.svg\" alt=\"Open In Colab\"/></a>"
      ]
    },
    {
      "cell_type": "markdown",
      "metadata": {
        "id": "tOGC-qoyhJeX"
      },
      "source": [
        "# <b><u> Project Title : Taxi trip time Prediction : Predicting total ride duration of taxi trips in New York City</u></b>"
      ]
    },
    {
      "cell_type": "markdown",
      "metadata": {
        "id": "G7bohg8BXjkD"
      },
      "source": []
    },
    {
      "cell_type": "markdown",
      "metadata": {
        "id": "Y06xIdG26kRF"
      },
      "source": [
        "## <b> Problem Description </b>\n",
        "\n",
        "### Your task is to build a model that predicts the total ride duration of taxi trips in New York City. Your primary dataset is one released by the NYC Taxi and Limousine Commission, which includes pickup time, geo-coordinates, number of passengers, and several other variables."
      ]
    },
    {
      "cell_type": "markdown",
      "metadata": {
        "id": "WWeU1f9bwqQq"
      },
      "source": [
        "## <b> Data Description </b>\n",
        "\n",
        "### The dataset is based on the 2016 NYC Yellow Cab trip record data made available in Big Query on Google Cloud Platform. The data was originally published by the NYC Taxi and Limousine Commission (TLC). The data was sampled and cleaned for the purposes of this project. Based on individual trip attributes, you should predict the duration of each trip in the test set.\n",
        "\n",
        "### <b>NYC Taxi Data.csv</b> - the training set (contains 1458644 trip records)\n",
        "\n",
        "\n",
        "### Data fields\n",
        "* #### id - a unique identifier for each trip\n",
        "* #### vendor_id - a code indicating the provider associated with the trip record\n",
        "* #### pickup_datetime - date and time when the meter was engaged\n",
        "* #### dropoff_datetime - date and time when the meter was disengaged\n",
        "* #### passenger_count - the number of passengers in the vehicle (driver entered value)\n",
        "* #### pickup_longitude - the longitude where the meter was engaged\n",
        "* #### pickup_latitude - the latitude where the meter was engaged\n",
        "* #### dropoff_longitude - the longitude where the meter was disengaged\n",
        "* #### dropoff_latitude - the latitude where the meter was disengaged\n",
        "* #### store_and_fwd_flag - This flag indicates whether the trip record was held in vehicle memory before sending to the vendor because the vehicle did not have a connection to the server - Y=store and forward; N=not a store and forward trip\n",
        "* #### trip_duration - duration of the trip in seconds"
      ]
    },
    {
      "cell_type": "code",
      "execution_count": 51,
      "metadata": {
        "id": "j3u2K6jksi27"
      },
      "outputs": [],
      "source": [
        "# Import necessary libraries\n",
        "import numpy as np\n",
        "import pandas as pd\n",
        "import matplotlib.pyplot as plt\n",
        "import seaborn as sns\n",
        "import datetime as dt\n",
        "import time\n",
        "\n",
        "\n",
        "from geopy import distance\n",
        "\n",
        "from sklearn.model_selection import train_test_split\n",
        "from sklearn.preprocessing import StandardScaler, MinMaxScaler\n",
        "from sklearn.linear_model import LinearRegression\n",
        "from sklearn.linear_model import Lasso, Ridge,ElasticNet\n",
        "from sklearn.model_selection import GridSearchCV\n",
        "from sklearn.ensemble import HistGradientBoostingRegressor\n",
        "from sklearn.ensemble import AdaBoostRegressor\n",
        "from sklearn.ensemble import RandomForestRegressor\n",
        "from sklearn.tree import DecisionTreeRegressor\n",
        "from sklearn.ensemble import GradientBoostingRegressor\n",
        "import xgboost as xgb\n",
        "\n",
        "from sklearn.metrics import r2_score,mean_absolute_error,mean_squared_error\n",
        "\n",
        "# ignore warnings\n",
        "import warnings\n",
        "warnings.filterwarnings(\"ignore\")"
      ]
    },
    {
      "cell_type": "markdown",
      "metadata": {
        "id": "LThAAAbQsHk8"
      },
      "source": [
        "# Importing the dataset"
      ]
    },
    {
      "cell_type": "code",
      "execution_count": 2,
      "metadata": {
        "colab": {
          "base_uri": "https://localhost:8080/"
        },
        "id": "yNjdha1VoBug",
        "outputId": "117fbdd0-bbbd-489b-9590-199c70f4b222"
      },
      "outputs": [
        {
          "output_type": "stream",
          "name": "stdout",
          "text": [
            "Drive already mounted at /content/drive; to attempt to forcibly remount, call drive.mount(\"/content/drive\", force_remount=True).\n"
          ]
        }
      ],
      "source": [
        "# Mount the drive.\n",
        "from google.colab import drive\n",
        "drive.mount('/content/drive')"
      ]
    },
    {
      "cell_type": "code",
      "execution_count": 3,
      "metadata": {
        "id": "DIY7eWRWoNo0"
      },
      "outputs": [],
      "source": [
        "# load the data\n",
        "path = \"/content/drive/MyDrive/regression capstone project/NYC Taxi Data.csv\"\n",
        "df = pd.read_csv(path)"
      ]
    },
    {
      "cell_type": "code",
      "execution_count": 4,
      "metadata": {
        "colab": {
          "base_uri": "https://localhost:8080/",
          "height": 357
        },
        "id": "RAmG3XMLoaE2",
        "outputId": "12a90699-9bed-474c-be9e-74f7a44d98d6"
      },
      "outputs": [
        {
          "output_type": "execute_result",
          "data": {
            "text/plain": [
              "          id  vendor_id      pickup_datetime     dropoff_datetime  \\\n",
              "0  id2875421          2  2016-03-14 17:24:55  2016-03-14 17:32:30   \n",
              "1  id2377394          1  2016-06-12 00:43:35  2016-06-12 00:54:38   \n",
              "2  id3858529          2  2016-01-19 11:35:24  2016-01-19 12:10:48   \n",
              "3  id3504673          2  2016-04-06 19:32:31  2016-04-06 19:39:40   \n",
              "4  id2181028          2  2016-03-26 13:30:55  2016-03-26 13:38:10   \n",
              "\n",
              "   passenger_count  pickup_longitude  pickup_latitude  dropoff_longitude  \\\n",
              "0                1        -73.982155        40.767937         -73.964630   \n",
              "1                1        -73.980415        40.738564         -73.999481   \n",
              "2                1        -73.979027        40.763939         -74.005333   \n",
              "3                1        -74.010040        40.719971         -74.012268   \n",
              "4                1        -73.973053        40.793209         -73.972923   \n",
              "\n",
              "   dropoff_latitude store_and_fwd_flag  trip_duration  \n",
              "0         40.765602                  N            455  \n",
              "1         40.731152                  N            663  \n",
              "2         40.710087                  N           2124  \n",
              "3         40.706718                  N            429  \n",
              "4         40.782520                  N            435  "
            ],
            "text/html": [
              "\n",
              "  <div id=\"df-5f3d7ceb-7824-4f28-bc73-4ebe3b1d29c2\">\n",
              "    <div class=\"colab-df-container\">\n",
              "      <div>\n",
              "<style scoped>\n",
              "    .dataframe tbody tr th:only-of-type {\n",
              "        vertical-align: middle;\n",
              "    }\n",
              "\n",
              "    .dataframe tbody tr th {\n",
              "        vertical-align: top;\n",
              "    }\n",
              "\n",
              "    .dataframe thead th {\n",
              "        text-align: right;\n",
              "    }\n",
              "</style>\n",
              "<table border=\"1\" class=\"dataframe\">\n",
              "  <thead>\n",
              "    <tr style=\"text-align: right;\">\n",
              "      <th></th>\n",
              "      <th>id</th>\n",
              "      <th>vendor_id</th>\n",
              "      <th>pickup_datetime</th>\n",
              "      <th>dropoff_datetime</th>\n",
              "      <th>passenger_count</th>\n",
              "      <th>pickup_longitude</th>\n",
              "      <th>pickup_latitude</th>\n",
              "      <th>dropoff_longitude</th>\n",
              "      <th>dropoff_latitude</th>\n",
              "      <th>store_and_fwd_flag</th>\n",
              "      <th>trip_duration</th>\n",
              "    </tr>\n",
              "  </thead>\n",
              "  <tbody>\n",
              "    <tr>\n",
              "      <th>0</th>\n",
              "      <td>id2875421</td>\n",
              "      <td>2</td>\n",
              "      <td>2016-03-14 17:24:55</td>\n",
              "      <td>2016-03-14 17:32:30</td>\n",
              "      <td>1</td>\n",
              "      <td>-73.982155</td>\n",
              "      <td>40.767937</td>\n",
              "      <td>-73.964630</td>\n",
              "      <td>40.765602</td>\n",
              "      <td>N</td>\n",
              "      <td>455</td>\n",
              "    </tr>\n",
              "    <tr>\n",
              "      <th>1</th>\n",
              "      <td>id2377394</td>\n",
              "      <td>1</td>\n",
              "      <td>2016-06-12 00:43:35</td>\n",
              "      <td>2016-06-12 00:54:38</td>\n",
              "      <td>1</td>\n",
              "      <td>-73.980415</td>\n",
              "      <td>40.738564</td>\n",
              "      <td>-73.999481</td>\n",
              "      <td>40.731152</td>\n",
              "      <td>N</td>\n",
              "      <td>663</td>\n",
              "    </tr>\n",
              "    <tr>\n",
              "      <th>2</th>\n",
              "      <td>id3858529</td>\n",
              "      <td>2</td>\n",
              "      <td>2016-01-19 11:35:24</td>\n",
              "      <td>2016-01-19 12:10:48</td>\n",
              "      <td>1</td>\n",
              "      <td>-73.979027</td>\n",
              "      <td>40.763939</td>\n",
              "      <td>-74.005333</td>\n",
              "      <td>40.710087</td>\n",
              "      <td>N</td>\n",
              "      <td>2124</td>\n",
              "    </tr>\n",
              "    <tr>\n",
              "      <th>3</th>\n",
              "      <td>id3504673</td>\n",
              "      <td>2</td>\n",
              "      <td>2016-04-06 19:32:31</td>\n",
              "      <td>2016-04-06 19:39:40</td>\n",
              "      <td>1</td>\n",
              "      <td>-74.010040</td>\n",
              "      <td>40.719971</td>\n",
              "      <td>-74.012268</td>\n",
              "      <td>40.706718</td>\n",
              "      <td>N</td>\n",
              "      <td>429</td>\n",
              "    </tr>\n",
              "    <tr>\n",
              "      <th>4</th>\n",
              "      <td>id2181028</td>\n",
              "      <td>2</td>\n",
              "      <td>2016-03-26 13:30:55</td>\n",
              "      <td>2016-03-26 13:38:10</td>\n",
              "      <td>1</td>\n",
              "      <td>-73.973053</td>\n",
              "      <td>40.793209</td>\n",
              "      <td>-73.972923</td>\n",
              "      <td>40.782520</td>\n",
              "      <td>N</td>\n",
              "      <td>435</td>\n",
              "    </tr>\n",
              "  </tbody>\n",
              "</table>\n",
              "</div>\n",
              "      <button class=\"colab-df-convert\" onclick=\"convertToInteractive('df-5f3d7ceb-7824-4f28-bc73-4ebe3b1d29c2')\"\n",
              "              title=\"Convert this dataframe to an interactive table.\"\n",
              "              style=\"display:none;\">\n",
              "        \n",
              "  <svg xmlns=\"http://www.w3.org/2000/svg\" height=\"24px\"viewBox=\"0 0 24 24\"\n",
              "       width=\"24px\">\n",
              "    <path d=\"M0 0h24v24H0V0z\" fill=\"none\"/>\n",
              "    <path d=\"M18.56 5.44l.94 2.06.94-2.06 2.06-.94-2.06-.94-.94-2.06-.94 2.06-2.06.94zm-11 1L8.5 8.5l.94-2.06 2.06-.94-2.06-.94L8.5 2.5l-.94 2.06-2.06.94zm10 10l.94 2.06.94-2.06 2.06-.94-2.06-.94-.94-2.06-.94 2.06-2.06.94z\"/><path d=\"M17.41 7.96l-1.37-1.37c-.4-.4-.92-.59-1.43-.59-.52 0-1.04.2-1.43.59L10.3 9.45l-7.72 7.72c-.78.78-.78 2.05 0 2.83L4 21.41c.39.39.9.59 1.41.59.51 0 1.02-.2 1.41-.59l7.78-7.78 2.81-2.81c.8-.78.8-2.07 0-2.86zM5.41 20L4 18.59l7.72-7.72 1.47 1.35L5.41 20z\"/>\n",
              "  </svg>\n",
              "      </button>\n",
              "      \n",
              "  <style>\n",
              "    .colab-df-container {\n",
              "      display:flex;\n",
              "      flex-wrap:wrap;\n",
              "      gap: 12px;\n",
              "    }\n",
              "\n",
              "    .colab-df-convert {\n",
              "      background-color: #E8F0FE;\n",
              "      border: none;\n",
              "      border-radius: 50%;\n",
              "      cursor: pointer;\n",
              "      display: none;\n",
              "      fill: #1967D2;\n",
              "      height: 32px;\n",
              "      padding: 0 0 0 0;\n",
              "      width: 32px;\n",
              "    }\n",
              "\n",
              "    .colab-df-convert:hover {\n",
              "      background-color: #E2EBFA;\n",
              "      box-shadow: 0px 1px 2px rgba(60, 64, 67, 0.3), 0px 1px 3px 1px rgba(60, 64, 67, 0.15);\n",
              "      fill: #174EA6;\n",
              "    }\n",
              "\n",
              "    [theme=dark] .colab-df-convert {\n",
              "      background-color: #3B4455;\n",
              "      fill: #D2E3FC;\n",
              "    }\n",
              "\n",
              "    [theme=dark] .colab-df-convert:hover {\n",
              "      background-color: #434B5C;\n",
              "      box-shadow: 0px 1px 3px 1px rgba(0, 0, 0, 0.15);\n",
              "      filter: drop-shadow(0px 1px 2px rgba(0, 0, 0, 0.3));\n",
              "      fill: #FFFFFF;\n",
              "    }\n",
              "  </style>\n",
              "\n",
              "      <script>\n",
              "        const buttonEl =\n",
              "          document.querySelector('#df-5f3d7ceb-7824-4f28-bc73-4ebe3b1d29c2 button.colab-df-convert');\n",
              "        buttonEl.style.display =\n",
              "          google.colab.kernel.accessAllowed ? 'block' : 'none';\n",
              "\n",
              "        async function convertToInteractive(key) {\n",
              "          const element = document.querySelector('#df-5f3d7ceb-7824-4f28-bc73-4ebe3b1d29c2');\n",
              "          const dataTable =\n",
              "            await google.colab.kernel.invokeFunction('convertToInteractive',\n",
              "                                                     [key], {});\n",
              "          if (!dataTable) return;\n",
              "\n",
              "          const docLinkHtml = 'Like what you see? Visit the ' +\n",
              "            '<a target=\"_blank\" href=https://colab.research.google.com/notebooks/data_table.ipynb>data table notebook</a>'\n",
              "            + ' to learn more about interactive tables.';\n",
              "          element.innerHTML = '';\n",
              "          dataTable['output_type'] = 'display_data';\n",
              "          await google.colab.output.renderOutput(dataTable, element);\n",
              "          const docLink = document.createElement('div');\n",
              "          docLink.innerHTML = docLinkHtml;\n",
              "          element.appendChild(docLink);\n",
              "        }\n",
              "      </script>\n",
              "    </div>\n",
              "  </div>\n",
              "  "
            ]
          },
          "metadata": {},
          "execution_count": 4
        }
      ],
      "source": [
        "df.head()"
      ]
    },
    {
      "cell_type": "code",
      "execution_count": 4,
      "metadata": {
        "id": "rUAxSojGFaGL"
      },
      "outputs": [],
      "source": []
    },
    {
      "cell_type": "markdown",
      "metadata": {
        "id": "6LWyAfM-FbdS"
      },
      "source": [
        "# EDA\n"
      ]
    },
    {
      "cell_type": "code",
      "execution_count": 5,
      "metadata": {
        "colab": {
          "base_uri": "https://localhost:8080/"
        },
        "id": "_TiI4sRoobuN",
        "outputId": "8b918a1d-90c3-4463-bdaa-2b96a166a32c"
      },
      "outputs": [
        {
          "output_type": "stream",
          "name": "stdout",
          "text": [
            "Number of rows 1458644 \n",
            "Number of columns 11\n"
          ]
        }
      ],
      "source": [
        "# Check shape of the data\n",
        "shape = df.shape\n",
        "print(f\"Number of rows {shape[0]} \\nNumber of columns {shape[1]}\")"
      ]
    },
    {
      "cell_type": "code",
      "execution_count": 6,
      "metadata": {
        "colab": {
          "base_uri": "https://localhost:8080/"
        },
        "id": "RSxO19ebtMFE",
        "outputId": "0d4cd73d-db3c-47e7-e6ae-6340a7841959"
      },
      "outputs": [
        {
          "output_type": "stream",
          "name": "stdout",
          "text": [
            "<class 'pandas.core.frame.DataFrame'>\n",
            "RangeIndex: 1458644 entries, 0 to 1458643\n",
            "Data columns (total 11 columns):\n",
            " #   Column              Non-Null Count    Dtype  \n",
            "---  ------              --------------    -----  \n",
            " 0   id                  1458644 non-null  object \n",
            " 1   vendor_id           1458644 non-null  int64  \n",
            " 2   pickup_datetime     1458644 non-null  object \n",
            " 3   dropoff_datetime    1458644 non-null  object \n",
            " 4   passenger_count     1458644 non-null  int64  \n",
            " 5   pickup_longitude    1458644 non-null  float64\n",
            " 6   pickup_latitude     1458644 non-null  float64\n",
            " 7   dropoff_longitude   1458644 non-null  float64\n",
            " 8   dropoff_latitude    1458644 non-null  float64\n",
            " 9   store_and_fwd_flag  1458644 non-null  object \n",
            " 10  trip_duration       1458644 non-null  int64  \n",
            "dtypes: float64(4), int64(3), object(4)\n",
            "memory usage: 122.4+ MB\n"
          ]
        }
      ],
      "source": [
        "# Reveal information about the data.\n",
        "df.info()"
      ]
    },
    {
      "cell_type": "code",
      "execution_count": 7,
      "metadata": {
        "colab": {
          "base_uri": "https://localhost:8080/"
        },
        "id": "c4JYzBirtV7d",
        "outputId": "e44ed07a-8948-409a-beea-4dee0872d104"
      },
      "outputs": [
        {
          "output_type": "execute_result",
          "data": {
            "text/plain": [
              "id                    0\n",
              "vendor_id             0\n",
              "pickup_datetime       0\n",
              "dropoff_datetime      0\n",
              "passenger_count       0\n",
              "pickup_longitude      0\n",
              "pickup_latitude       0\n",
              "dropoff_longitude     0\n",
              "dropoff_latitude      0\n",
              "store_and_fwd_flag    0\n",
              "trip_duration         0\n",
              "dtype: int64"
            ]
          },
          "metadata": {},
          "execution_count": 7
        }
      ],
      "source": [
        "# Check if it contains null values.\n",
        "df.isnull().sum()"
      ]
    },
    {
      "cell_type": "markdown",
      "source": [
        "There is no null values in the data"
      ],
      "metadata": {
        "id": "EHAyXj-CEn0o"
      }
    },
    {
      "cell_type": "code",
      "source": [
        "duplicate_row = df.duplicated().sum()\n",
        "print(f\"number of duplicate row = {duplicate_row}\")"
      ],
      "metadata": {
        "colab": {
          "base_uri": "https://localhost:8080/"
        },
        "id": "O_yN3Q2a2N3l",
        "outputId": "09ec16db-8804-4ee0-cbd1-4e00b3aa0895"
      },
      "execution_count": 8,
      "outputs": [
        {
          "output_type": "stream",
          "name": "stdout",
          "text": [
            "number of duplicate row = 0\n"
          ]
        }
      ]
    },
    {
      "cell_type": "code",
      "source": [
        "# Get some statiscis.\n",
        "df.describe()"
      ],
      "metadata": {
        "colab": {
          "base_uri": "https://localhost:8080/",
          "height": 300
        },
        "id": "FYbXo_LCZlY8",
        "outputId": "53571865-49a7-477b-92ec-497cd886b509"
      },
      "execution_count": 9,
      "outputs": [
        {
          "output_type": "execute_result",
          "data": {
            "text/plain": [
              "          vendor_id  passenger_count  pickup_longitude  pickup_latitude  \\\n",
              "count  1.458644e+06     1.458644e+06      1.458644e+06     1.458644e+06   \n",
              "mean   1.534950e+00     1.664530e+00     -7.397349e+01     4.075092e+01   \n",
              "std    4.987772e-01     1.314242e+00      7.090186e-02     3.288119e-02   \n",
              "min    1.000000e+00     0.000000e+00     -1.219333e+02     3.435970e+01   \n",
              "25%    1.000000e+00     1.000000e+00     -7.399187e+01     4.073735e+01   \n",
              "50%    2.000000e+00     1.000000e+00     -7.398174e+01     4.075410e+01   \n",
              "75%    2.000000e+00     2.000000e+00     -7.396733e+01     4.076836e+01   \n",
              "max    2.000000e+00     9.000000e+00     -6.133553e+01     5.188108e+01   \n",
              "\n",
              "       dropoff_longitude  dropoff_latitude  trip_duration  \n",
              "count       1.458644e+06      1.458644e+06   1.458644e+06  \n",
              "mean       -7.397342e+01      4.075180e+01   9.594923e+02  \n",
              "std         7.064327e-02      3.589056e-02   5.237432e+03  \n",
              "min        -1.219333e+02      3.218114e+01   1.000000e+00  \n",
              "25%        -7.399133e+01      4.073588e+01   3.970000e+02  \n",
              "50%        -7.397975e+01      4.075452e+01   6.620000e+02  \n",
              "75%        -7.396301e+01      4.076981e+01   1.075000e+03  \n",
              "max        -6.133553e+01      4.392103e+01   3.526282e+06  "
            ],
            "text/html": [
              "\n",
              "  <div id=\"df-65c5f169-8fe5-46af-b7e7-ad9d8c2166a0\">\n",
              "    <div class=\"colab-df-container\">\n",
              "      <div>\n",
              "<style scoped>\n",
              "    .dataframe tbody tr th:only-of-type {\n",
              "        vertical-align: middle;\n",
              "    }\n",
              "\n",
              "    .dataframe tbody tr th {\n",
              "        vertical-align: top;\n",
              "    }\n",
              "\n",
              "    .dataframe thead th {\n",
              "        text-align: right;\n",
              "    }\n",
              "</style>\n",
              "<table border=\"1\" class=\"dataframe\">\n",
              "  <thead>\n",
              "    <tr style=\"text-align: right;\">\n",
              "      <th></th>\n",
              "      <th>vendor_id</th>\n",
              "      <th>passenger_count</th>\n",
              "      <th>pickup_longitude</th>\n",
              "      <th>pickup_latitude</th>\n",
              "      <th>dropoff_longitude</th>\n",
              "      <th>dropoff_latitude</th>\n",
              "      <th>trip_duration</th>\n",
              "    </tr>\n",
              "  </thead>\n",
              "  <tbody>\n",
              "    <tr>\n",
              "      <th>count</th>\n",
              "      <td>1.458644e+06</td>\n",
              "      <td>1.458644e+06</td>\n",
              "      <td>1.458644e+06</td>\n",
              "      <td>1.458644e+06</td>\n",
              "      <td>1.458644e+06</td>\n",
              "      <td>1.458644e+06</td>\n",
              "      <td>1.458644e+06</td>\n",
              "    </tr>\n",
              "    <tr>\n",
              "      <th>mean</th>\n",
              "      <td>1.534950e+00</td>\n",
              "      <td>1.664530e+00</td>\n",
              "      <td>-7.397349e+01</td>\n",
              "      <td>4.075092e+01</td>\n",
              "      <td>-7.397342e+01</td>\n",
              "      <td>4.075180e+01</td>\n",
              "      <td>9.594923e+02</td>\n",
              "    </tr>\n",
              "    <tr>\n",
              "      <th>std</th>\n",
              "      <td>4.987772e-01</td>\n",
              "      <td>1.314242e+00</td>\n",
              "      <td>7.090186e-02</td>\n",
              "      <td>3.288119e-02</td>\n",
              "      <td>7.064327e-02</td>\n",
              "      <td>3.589056e-02</td>\n",
              "      <td>5.237432e+03</td>\n",
              "    </tr>\n",
              "    <tr>\n",
              "      <th>min</th>\n",
              "      <td>1.000000e+00</td>\n",
              "      <td>0.000000e+00</td>\n",
              "      <td>-1.219333e+02</td>\n",
              "      <td>3.435970e+01</td>\n",
              "      <td>-1.219333e+02</td>\n",
              "      <td>3.218114e+01</td>\n",
              "      <td>1.000000e+00</td>\n",
              "    </tr>\n",
              "    <tr>\n",
              "      <th>25%</th>\n",
              "      <td>1.000000e+00</td>\n",
              "      <td>1.000000e+00</td>\n",
              "      <td>-7.399187e+01</td>\n",
              "      <td>4.073735e+01</td>\n",
              "      <td>-7.399133e+01</td>\n",
              "      <td>4.073588e+01</td>\n",
              "      <td>3.970000e+02</td>\n",
              "    </tr>\n",
              "    <tr>\n",
              "      <th>50%</th>\n",
              "      <td>2.000000e+00</td>\n",
              "      <td>1.000000e+00</td>\n",
              "      <td>-7.398174e+01</td>\n",
              "      <td>4.075410e+01</td>\n",
              "      <td>-7.397975e+01</td>\n",
              "      <td>4.075452e+01</td>\n",
              "      <td>6.620000e+02</td>\n",
              "    </tr>\n",
              "    <tr>\n",
              "      <th>75%</th>\n",
              "      <td>2.000000e+00</td>\n",
              "      <td>2.000000e+00</td>\n",
              "      <td>-7.396733e+01</td>\n",
              "      <td>4.076836e+01</td>\n",
              "      <td>-7.396301e+01</td>\n",
              "      <td>4.076981e+01</td>\n",
              "      <td>1.075000e+03</td>\n",
              "    </tr>\n",
              "    <tr>\n",
              "      <th>max</th>\n",
              "      <td>2.000000e+00</td>\n",
              "      <td>9.000000e+00</td>\n",
              "      <td>-6.133553e+01</td>\n",
              "      <td>5.188108e+01</td>\n",
              "      <td>-6.133553e+01</td>\n",
              "      <td>4.392103e+01</td>\n",
              "      <td>3.526282e+06</td>\n",
              "    </tr>\n",
              "  </tbody>\n",
              "</table>\n",
              "</div>\n",
              "      <button class=\"colab-df-convert\" onclick=\"convertToInteractive('df-65c5f169-8fe5-46af-b7e7-ad9d8c2166a0')\"\n",
              "              title=\"Convert this dataframe to an interactive table.\"\n",
              "              style=\"display:none;\">\n",
              "        \n",
              "  <svg xmlns=\"http://www.w3.org/2000/svg\" height=\"24px\"viewBox=\"0 0 24 24\"\n",
              "       width=\"24px\">\n",
              "    <path d=\"M0 0h24v24H0V0z\" fill=\"none\"/>\n",
              "    <path d=\"M18.56 5.44l.94 2.06.94-2.06 2.06-.94-2.06-.94-.94-2.06-.94 2.06-2.06.94zm-11 1L8.5 8.5l.94-2.06 2.06-.94-2.06-.94L8.5 2.5l-.94 2.06-2.06.94zm10 10l.94 2.06.94-2.06 2.06-.94-2.06-.94-.94-2.06-.94 2.06-2.06.94z\"/><path d=\"M17.41 7.96l-1.37-1.37c-.4-.4-.92-.59-1.43-.59-.52 0-1.04.2-1.43.59L10.3 9.45l-7.72 7.72c-.78.78-.78 2.05 0 2.83L4 21.41c.39.39.9.59 1.41.59.51 0 1.02-.2 1.41-.59l7.78-7.78 2.81-2.81c.8-.78.8-2.07 0-2.86zM5.41 20L4 18.59l7.72-7.72 1.47 1.35L5.41 20z\"/>\n",
              "  </svg>\n",
              "      </button>\n",
              "      \n",
              "  <style>\n",
              "    .colab-df-container {\n",
              "      display:flex;\n",
              "      flex-wrap:wrap;\n",
              "      gap: 12px;\n",
              "    }\n",
              "\n",
              "    .colab-df-convert {\n",
              "      background-color: #E8F0FE;\n",
              "      border: none;\n",
              "      border-radius: 50%;\n",
              "      cursor: pointer;\n",
              "      display: none;\n",
              "      fill: #1967D2;\n",
              "      height: 32px;\n",
              "      padding: 0 0 0 0;\n",
              "      width: 32px;\n",
              "    }\n",
              "\n",
              "    .colab-df-convert:hover {\n",
              "      background-color: #E2EBFA;\n",
              "      box-shadow: 0px 1px 2px rgba(60, 64, 67, 0.3), 0px 1px 3px 1px rgba(60, 64, 67, 0.15);\n",
              "      fill: #174EA6;\n",
              "    }\n",
              "\n",
              "    [theme=dark] .colab-df-convert {\n",
              "      background-color: #3B4455;\n",
              "      fill: #D2E3FC;\n",
              "    }\n",
              "\n",
              "    [theme=dark] .colab-df-convert:hover {\n",
              "      background-color: #434B5C;\n",
              "      box-shadow: 0px 1px 3px 1px rgba(0, 0, 0, 0.15);\n",
              "      filter: drop-shadow(0px 1px 2px rgba(0, 0, 0, 0.3));\n",
              "      fill: #FFFFFF;\n",
              "    }\n",
              "  </style>\n",
              "\n",
              "      <script>\n",
              "        const buttonEl =\n",
              "          document.querySelector('#df-65c5f169-8fe5-46af-b7e7-ad9d8c2166a0 button.colab-df-convert');\n",
              "        buttonEl.style.display =\n",
              "          google.colab.kernel.accessAllowed ? 'block' : 'none';\n",
              "\n",
              "        async function convertToInteractive(key) {\n",
              "          const element = document.querySelector('#df-65c5f169-8fe5-46af-b7e7-ad9d8c2166a0');\n",
              "          const dataTable =\n",
              "            await google.colab.kernel.invokeFunction('convertToInteractive',\n",
              "                                                     [key], {});\n",
              "          if (!dataTable) return;\n",
              "\n",
              "          const docLinkHtml = 'Like what you see? Visit the ' +\n",
              "            '<a target=\"_blank\" href=https://colab.research.google.com/notebooks/data_table.ipynb>data table notebook</a>'\n",
              "            + ' to learn more about interactive tables.';\n",
              "          element.innerHTML = '';\n",
              "          dataTable['output_type'] = 'display_data';\n",
              "          await google.colab.output.renderOutput(dataTable, element);\n",
              "          const docLink = document.createElement('div');\n",
              "          docLink.innerHTML = docLinkHtml;\n",
              "          element.appendChild(docLink);\n",
              "        }\n",
              "      </script>\n",
              "    </div>\n",
              "  </div>\n",
              "  "
            ]
          },
          "metadata": {},
          "execution_count": 9
        }
      ]
    },
    {
      "cell_type": "code",
      "execution_count": 10,
      "metadata": {
        "id": "q8QYczGMtanc"
      },
      "outputs": [],
      "source": [
        "# Change format for pickup_datetime to datetime\n",
        "df['pickup_datetime'] = pd.to_datetime(df['pickup_datetime'])\n",
        "df['dropoff_datetime'] = pd.to_datetime(df['dropoff_datetime'])"
      ]
    },
    {
      "cell_type": "code",
      "execution_count": 11,
      "metadata": {
        "id": "k-HO99zRxhUl"
      },
      "outputs": [],
      "source": [
        "# Retrive day, month and hour data and drop 'pickup_datetime', 'dropoff_datetime' columns\n",
        "df['weekday'] = df['pickup_datetime'].dt.weekday\n",
        "df['month'] = df['pickup_datetime'].dt.month\n",
        "df['hour'] = df['pickup_datetime'].dt.hour\n",
        "df.drop(columns=['pickup_datetime', 'dropoff_datetime'], inplace= True)"
      ]
    },
    {
      "cell_type": "code",
      "execution_count": 12,
      "metadata": {
        "id": "Bzd4_khlcrQM",
        "colab": {
          "base_uri": "https://localhost:8080/"
        },
        "outputId": "dc3e2492-2b64-44cb-97e4-627324111d0b"
      },
      "outputs": [
        {
          "output_type": "stream",
          "name": "stdout",
          "text": [
            "<class 'pandas.core.frame.DataFrame'>\n",
            "RangeIndex: 1458644 entries, 0 to 1458643\n",
            "Data columns (total 12 columns):\n",
            " #   Column              Non-Null Count    Dtype  \n",
            "---  ------              --------------    -----  \n",
            " 0   id                  1458644 non-null  object \n",
            " 1   vendor_id           1458644 non-null  int64  \n",
            " 2   passenger_count     1458644 non-null  int64  \n",
            " 3   pickup_longitude    1458644 non-null  float64\n",
            " 4   pickup_latitude     1458644 non-null  float64\n",
            " 5   dropoff_longitude   1458644 non-null  float64\n",
            " 6   dropoff_latitude    1458644 non-null  float64\n",
            " 7   store_and_fwd_flag  1458644 non-null  object \n",
            " 8   trip_duration       1458644 non-null  int64  \n",
            " 9   weekday             1458644 non-null  int64  \n",
            " 10  month               1458644 non-null  int64  \n",
            " 11  hour                1458644 non-null  int64  \n",
            "dtypes: float64(4), int64(6), object(2)\n",
            "memory usage: 133.5+ MB\n"
          ]
        }
      ],
      "source": [
        "# After the above transformation\n",
        "df.info()"
      ]
    },
    {
      "cell_type": "code",
      "execution_count": 12,
      "metadata": {
        "id": "mcMyuD3Q5qgL"
      },
      "outputs": [],
      "source": []
    },
    {
      "cell_type": "code",
      "execution_count": 13,
      "metadata": {
        "colab": {
          "base_uri": "https://localhost:8080/"
        },
        "id": "Qmtb_OMj8gZr",
        "outputId": "898a192f-fd5c-4aa7-a6d2-c321991c7e75"
      },
      "outputs": [
        {
          "output_type": "execute_result",
          "data": {
            "text/plain": [
              "Index(['id', 'vendor_id', 'passenger_count', 'pickup_longitude',\n",
              "       'pickup_latitude', 'dropoff_longitude', 'dropoff_latitude',\n",
              "       'store_and_fwd_flag', 'trip_duration', 'weekday', 'month', 'hour'],\n",
              "      dtype='object')"
            ]
          },
          "metadata": {},
          "execution_count": 13
        }
      ],
      "source": [
        "df.columns"
      ]
    },
    {
      "cell_type": "code",
      "execution_count": 13,
      "metadata": {
        "id": "yMAwek8WiFMJ"
      },
      "outputs": [],
      "source": []
    },
    {
      "cell_type": "markdown",
      "metadata": {
        "id": "vkZNZ1EkrJcu"
      },
      "source": [
        "## Vendor ID"
      ]
    },
    {
      "cell_type": "code",
      "source": [
        "# Value counts for vendot id\n",
        "df.vendor_id.value_counts()"
      ],
      "metadata": {
        "colab": {
          "base_uri": "https://localhost:8080/"
        },
        "id": "lGMDJN_KFHAE",
        "outputId": "b6b01e81-f6a2-41b9-a92e-0d401bcd75b6"
      },
      "execution_count": 14,
      "outputs": [
        {
          "output_type": "execute_result",
          "data": {
            "text/plain": [
              "2    780302\n",
              "1    678342\n",
              "Name: vendor_id, dtype: int64"
            ]
          },
          "metadata": {},
          "execution_count": 14
        }
      ]
    },
    {
      "cell_type": "code",
      "execution_count": 15,
      "metadata": {
        "colab": {
          "base_uri": "https://localhost:8080/",
          "height": 351
        },
        "id": "HmLOaQPjrNaC",
        "outputId": "2d8ff90e-7217-4ecc-bdd4-0efaae6ee789"
      },
      "outputs": [
        {
          "output_type": "display_data",
          "data": {
            "text/plain": [
              "<Figure size 360x360 with 1 Axes>"
            ],
            "image/png": "[encoded data removed]"
          },
          "metadata": {
            "needs_background": "light"
          }
        }
      ],
      "source": [
        "# plot number of trios by each vendors\n",
        "plt.figure(figsize= (5,5))\n",
        "sns.countplot(df['vendor_id'])\n",
        "plt.title(\"Trip count by each vendor\")\n",
        "plt.show()"
      ]
    },
    {
      "cell_type": "code",
      "execution_count": 16,
      "metadata": {
        "colab": {
          "base_uri": "https://localhost:8080/",
          "height": 347
        },
        "id": "UOLiEWoGrNXJ",
        "outputId": "919420ea-5e83-4668-e780-3fee6c917798"
      },
      "outputs": [
        {
          "output_type": "display_data",
          "data": {
            "text/plain": [
              "<Figure size 360x360 with 1 Axes>"
            ],
            "image/png": "[encoded data removed]"
          },
          "metadata": {
            "needs_background": "light"
          }
        }
      ],
      "source": [
        "# Trip time comparison for each vendor\n",
        "plt.figure(figsize= (5,5))\n",
        "df.groupby(['vendor_id'])['trip_duration'].sum().plot(kind = 'bar')\n",
        "plt.title('trip duration by each vendor')\n",
        "plt.show()"
      ]
    },
    {
      "cell_type": "markdown",
      "metadata": {
        "id": "AmmHP7kJtxHl"
      },
      "source": [
        "* trip count of bendor 2 is more then vendor 1\n",
        "* also total trip duration in vendor 2 is more thn vendor 1"
      ]
    },
    {
      "cell_type": "code",
      "execution_count": 16,
      "metadata": {
        "id": "gHvRjkK2rNUR"
      },
      "outputs": [],
      "source": []
    },
    {
      "cell_type": "code",
      "execution_count": 16,
      "metadata": {
        "id": "d-gS5YRWrNJa"
      },
      "outputs": [],
      "source": []
    },
    {
      "cell_type": "markdown",
      "metadata": {
        "id": "0StpK_f-iF6L"
      },
      "source": [
        "## Passenger counts\n"
      ]
    },
    {
      "cell_type": "code",
      "execution_count": 17,
      "metadata": {
        "colab": {
          "base_uri": "https://localhost:8080/"
        },
        "id": "bxy22lA6iFJZ",
        "outputId": "30298535-2e7b-42b6-9723-5fc90b761542"
      },
      "outputs": [
        {
          "output_type": "execute_result",
          "data": {
            "text/plain": [
              "1    1033540\n",
              "2     210318\n",
              "5      78088\n",
              "3      59896\n",
              "6      48333\n",
              "4      28404\n",
              "0         60\n",
              "7          3\n",
              "9          1\n",
              "8          1\n",
              "Name: passenger_count, dtype: int64"
            ]
          },
          "metadata": {},
          "execution_count": 17
        }
      ],
      "source": [
        "# Value counts on passenger_count\n",
        "df['passenger_count'].value_counts()"
      ]
    },
    {
      "cell_type": "code",
      "execution_count": 18,
      "metadata": {
        "colab": {
          "base_uri": "https://localhost:8080/",
          "height": 291
        },
        "id": "W43rC9VQiFGr",
        "outputId": "b2967311-849e-4b7a-b3bf-d8d4d04c2496"
      },
      "outputs": [
        {
          "output_type": "display_data",
          "data": {
            "text/plain": [
              "<Figure size 432x288 with 1 Axes>"
            ],
            "image/png": "[encoded data removed]"
          },
          "metadata": {
            "needs_background": "light"
          }
        }
      ],
      "source": [
        "# Count plot on passenger_counts\n",
        "sns.countplot(df['passenger_count'])\n",
        "plt.show()"
      ]
    },
    {
      "cell_type": "markdown",
      "metadata": {
        "id": "XMXFj-GKimly"
      },
      "source": [
        "* ***some values are zero which mean either the trip was cancled or there was an error in the data entry.***\n",
        "* ***7, 8, 9 are extreme cases considering the capacity of a car, so we will get rid of them.***\n",
        "* ***most of the trips contain atmost 1 or 2 passengers.***"
      ]
    },
    {
      "cell_type": "code",
      "execution_count": 19,
      "metadata": {
        "id": "v72M7BdqimGb"
      },
      "outputs": [],
      "source": [
        "# removing rows with unwanted passenger counts\n",
        "df = df[(df['passenger_count'] > 0) & (df['passenger_count'] <=6)]"
      ]
    },
    {
      "cell_type": "code",
      "execution_count": 20,
      "metadata": {
        "colab": {
          "base_uri": "https://localhost:8080/",
          "height": 291
        },
        "id": "F3XVn2lXiFD1",
        "outputId": "4ba180ac-ee4d-4dfd-dc4f-199b4f1e311e"
      },
      "outputs": [
        {
          "output_type": "display_data",
          "data": {
            "text/plain": [
              "<Figure size 432x288 with 1 Axes>"
            ],
            "image/png": "[encoded data removed]"
          },
          "metadata": {
            "needs_background": "light"
          }
        }
      ],
      "source": [
        "# after removing un wanted passenger counts\n",
        "sns.countplot(df['passenger_count'])\n",
        "plt.show()"
      ]
    },
    {
      "cell_type": "code",
      "execution_count": 20,
      "metadata": {
        "id": "ITUfi3YiiFA1"
      },
      "outputs": [],
      "source": []
    },
    {
      "cell_type": "markdown",
      "metadata": {
        "id": "ymjooItfkeTU"
      },
      "source": [
        "## Pickup and drop off longitude and latitude"
      ]
    },
    {
      "cell_type": "code",
      "execution_count": 21,
      "metadata": {
        "id": "x7NRPTl0kaza"
      },
      "outputs": [],
      "source": [
        "# Create a function to calculate distances between pickup and drop off\n",
        "def calc_distance(df):\n",
        "    pickup = (df['pickup_latitude'], df['pickup_longitude'])\n",
        "    dropoff =  (df['dropoff_latitude'], df['dropoff_longitude'])\n",
        "    distance1 = distance.distance(pickup, dropoff).km\n",
        "    return distance1\n",
        "\n",
        "# Calculate distance \n",
        "df['distance'] = df.apply(lambda x: calc_distance(x), axis = 1)\n"
      ]
    },
    {
      "cell_type": "code",
      "source": [
        "# Boxplot on Distance feature\n",
        "plt.figure(figsize= (10,5))\n",
        "sns.boxplot(df['distance'])\n",
        "plt.title('Boxplot on Distance feature')\n",
        "plt.show()"
      ],
      "metadata": {
        "colab": {
          "base_uri": "https://localhost:8080/",
          "height": 350
        },
        "id": "EFvsgtph7-Iz",
        "outputId": "147da6eb-cab0-4a42-e6c8-5ac20c504cf6"
      },
      "execution_count": 22,
      "outputs": [
        {
          "output_type": "display_data",
          "data": {
            "text/plain": [
              "<Figure size 720x360 with 1 Axes>"
            ],
            "image/png": "[encoded data removed]"
          },
          "metadata": {
            "needs_background": "light"
          }
        }
      ]
    },
    {
      "cell_type": "markdown",
      "source": [
        "There are outliers in the data. To remove outliers, we will be using the IQR method."
      ],
      "metadata": {
        "id": "HAPOjd7EEUu7"
      }
    },
    {
      "cell_type": "code",
      "source": [
        "# Create a function that returns upper and lower bounds for removing outliers.\n",
        "def outlier_treatment(feature):\n",
        "  sorted(feature)\n",
        "  Q1,Q3 = np.percentile(feature , [25,75])\n",
        "  IQR = Q3 - Q1\n",
        "  lower_range = Q1 - (1.5 * IQR)\n",
        "  upper_range = Q3 + (1.5 * IQR)\n",
        "  return lower_range,upper_range"
      ],
      "metadata": {
        "id": "ag1Zv6DqEhcU"
      },
      "execution_count": 23,
      "outputs": []
    },
    {
      "cell_type": "code",
      "source": [
        "# Get upper/lower bounds for distance.\n",
        "lowerbound,upperbound = outlier_treatment(df['distance'])\n",
        "print(f\"lowerbound {lowerbound},     upperbound {upperbound}\")\n"
      ],
      "metadata": {
        "colab": {
          "base_uri": "https://localhost:8080/"
        },
        "id": "3aQAL_6NEuOy",
        "outputId": "3147149d-8146-4026-f770-938082099cbd"
      },
      "execution_count": 24,
      "outputs": [
        {
          "output_type": "stream",
          "name": "stdout",
          "text": [
            "lowerbound -2.731340166358339,     upperbound 7.838444087296006\n"
          ]
        }
      ]
    },
    {
      "cell_type": "markdown",
      "source": [
        "To clean the data we use upper bound from the IQR method and for lower bound we use 0.1. \n"
      ],
      "metadata": {
        "id": "KvMY2hub8euE"
      }
    },
    {
      "cell_type": "code",
      "execution_count": 25,
      "metadata": {
        "id": "Y3X_uAFkmOzT"
      },
      "outputs": [],
      "source": [
        "# Get rid of zero distance  and distances less then 100 km\n",
        "df = df[(df['distance'] > 0.1) & (df['distance'] < upperbound)]"
      ]
    },
    {
      "cell_type": "code",
      "execution_count": 26,
      "metadata": {
        "colab": {
          "base_uri": "https://localhost:8080/",
          "height": 350
        },
        "id": "eQWhdct9iE4p",
        "outputId": "44f3b4c8-4a00-4591-f6b8-f26dfa86124e"
      },
      "outputs": [
        {
          "output_type": "display_data",
          "data": {
            "text/plain": [
              "<Figure size 720x360 with 1 Axes>"
            ],
            "image/png": "[encoded data removed]"
          },
          "metadata": {
            "needs_background": "light"
          }
        }
      ],
      "source": [
        "# After removing the outliers\n",
        "plt.figure(figsize= (10,5))\n",
        "sns.boxplot(df['distance'], color= 'green')\n",
        "plt.title('Boxplot on Distance feature after removing outliers')\n",
        "plt.show()"
      ]
    },
    {
      "cell_type": "code",
      "execution_count": 26,
      "metadata": {
        "id": "4ssmSxT3iEa6"
      },
      "outputs": [],
      "source": []
    },
    {
      "cell_type": "code",
      "source": [],
      "metadata": {
        "id": "WbAtOVOSH50d"
      },
      "execution_count": 26,
      "outputs": []
    },
    {
      "cell_type": "code",
      "source": [],
      "metadata": {
        "id": "UUdnpwaSIo9S"
      },
      "execution_count": 26,
      "outputs": []
    },
    {
      "cell_type": "code",
      "source": [],
      "metadata": {
        "id": "rk_tgYZrIo6a"
      },
      "execution_count": 26,
      "outputs": []
    },
    {
      "cell_type": "markdown",
      "metadata": {
        "id": "sizFpE5VIzzB"
      },
      "source": [
        "## trip duration"
      ]
    },
    {
      "cell_type": "code",
      "execution_count": 26,
      "metadata": {
        "id": "vcpcLCJIetFL"
      },
      "outputs": [],
      "source": []
    },
    {
      "cell_type": "code",
      "source": [
        "# Check out the trip_duration.\n",
        "plt.figure(figsize=(10,3))\n",
        "sns.boxplot(df['trip_duration'], color='orange')\n",
        "plt.title('Trip duration Boxlot')\n",
        "plt.show()"
      ],
      "metadata": {
        "colab": {
          "base_uri": "https://localhost:8080/",
          "height": 242
        },
        "id": "lirmEtK8KICG",
        "outputId": "ea5e73df-bebe-4ebc-f925-311b44cb12e7"
      },
      "execution_count": 27,
      "outputs": [
        {
          "output_type": "display_data",
          "data": {
            "text/plain": [
              "<Figure size 720x216 with 1 Axes>"
            ],
            "image/png": "[encoded data removed]"
          },
          "metadata": {
            "needs_background": "light"
          }
        }
      ]
    },
    {
      "cell_type": "code",
      "execution_count": 27,
      "metadata": {
        "id": "35tN0VeIfe4z"
      },
      "outputs": [],
      "source": []
    },
    {
      "cell_type": "markdown",
      "metadata": {
        "id": "F7k567SBKhIc"
      },
      "source": [
        "we use IQR method to remove the outliers and for the lower bound we remove the rows with 0 seconds trip time"
      ]
    },
    {
      "cell_type": "code",
      "source": [
        "# Get upper/lower bounds for distance.\n",
        "lowerbound,upperbound = outlier_treatment(df['trip_duration'])\n",
        "print(f\"lowerbound {lowerbound},     upperbound {upperbound}\")\n"
      ],
      "metadata": {
        "colab": {
          "base_uri": "https://localhost:8080/"
        },
        "id": "bSKhfaxPLZER",
        "outputId": "4b4c2ae2-2af6-4f28-c550-edd27d2e3153"
      },
      "execution_count": 28,
      "outputs": [
        {
          "output_type": "stream",
          "name": "stdout",
          "text": [
            "lowerbound -457.0,     upperbound 1767.0\n"
          ]
        }
      ]
    },
    {
      "cell_type": "code",
      "execution_count": 29,
      "metadata": {
        "id": "OXKRdKawMzJ7"
      },
      "outputs": [],
      "source": [
        "# drop the rows with outliers with more then upper bound and also remove the trips with zero second time\n",
        "df = df[(df['trip_duration'] < 1000) & (df['trip_duration'] > 0) ]"
      ]
    },
    {
      "cell_type": "code",
      "execution_count": 29,
      "metadata": {
        "id": "MQVZ--X2NooZ"
      },
      "outputs": [],
      "source": []
    },
    {
      "cell_type": "code",
      "execution_count": 30,
      "metadata": {
        "id": "cjm0Gulehidz",
        "colab": {
          "base_uri": "https://localhost:8080/",
          "height": 242
        },
        "outputId": "34733c9b-494b-4183-f1f5-b2954498e7c2"
      },
      "outputs": [
        {
          "output_type": "display_data",
          "data": {
            "text/plain": [
              "<Figure size 720x216 with 1 Axes>"
            ],
            "image/png": "[encoded data removed]"
          },
          "metadata": {
            "needs_background": "light"
          }
        }
      ],
      "source": [
        "# Check out the trip_duration after removing outlieers\n",
        "fig = plt.figure(figsize=(10,3))\n",
        "# plt.figure(figsize=(10,5))\n",
        "sns.boxplot(df['trip_duration'], color='green')\n",
        "plt.title('Trip duration Boxplot after removing outliers')\n",
        "plt.show()"
      ]
    },
    {
      "cell_type": "code",
      "execution_count": 30,
      "metadata": {
        "id": "RaqFzxAahkjl"
      },
      "outputs": [],
      "source": []
    },
    {
      "cell_type": "code",
      "source": [],
      "metadata": {
        "id": "FNyEutCjXVYh"
      },
      "execution_count": 30,
      "outputs": []
    },
    {
      "cell_type": "markdown",
      "source": [
        "## store_and_fwd_flag."
      ],
      "metadata": {
        "id": "tcTyibsdXVwV"
      }
    },
    {
      "cell_type": "code",
      "source": [
        "df['store_and_fwd_flag'].value_counts()"
      ],
      "metadata": {
        "colab": {
          "base_uri": "https://localhost:8080/"
        },
        "id": "AY1cGujvXY4n",
        "outputId": "8f12bea3-3b58-42ca-9723-39b8c537ea3d"
      },
      "execution_count": 31,
      "outputs": [
        {
          "output_type": "execute_result",
          "data": {
            "text/plain": [
              "N    1020723\n",
              "Y       4618\n",
              "Name: store_and_fwd_flag, dtype: int64"
            ]
          },
          "metadata": {},
          "execution_count": 31
        }
      ]
    },
    {
      "cell_type": "code",
      "source": [
        "# Plot it.\n",
        "fig = plt.figure(figsize=(7,5))\n",
        "plot = sns.countplot(df['store_and_fwd_flag'], palette='gist_heat')\n",
        "plt.show()"
      ],
      "metadata": {
        "colab": {
          "base_uri": "https://localhost:8080/",
          "height": 346
        },
        "id": "-Btu9rGVXY16",
        "outputId": "809710fe-2f74-4093-b060-1471265ee578"
      },
      "execution_count": 32,
      "outputs": [
        {
          "output_type": "display_data",
          "data": {
            "text/plain": [
              "<Figure size 504x360 with 1 Axes>"
            ],
            "image/png": "[encoded data removed]"
          },
          "metadata": {
            "needs_background": "light"
          }
        }
      ]
    },
    {
      "cell_type": "markdown",
      "source": [
        "* most of the data values are N and only few values are Y, which means most of the data was uploaded directly without storing it and forwarding.\n",
        "* this is a categorical feature which we will be converting into numeric by getting dummies."
      ],
      "metadata": {
        "id": "IGCViw9AYd_4"
      }
    },
    {
      "cell_type": "markdown",
      "source": [
        "## Pickup Hour/ weekday/ month"
      ],
      "metadata": {
        "id": "OMQLvF3DKNhE"
      }
    },
    {
      "cell_type": "code",
      "source": [
        "df['hour'].value_counts()"
      ],
      "metadata": {
        "colab": {
          "base_uri": "https://localhost:8080/"
        },
        "id": "wn7mUzKmKPMK",
        "outputId": "ad6ba24a-dd26-4d93-854e-1072a6df3759"
      },
      "execution_count": 33,
      "outputs": [
        {
          "output_type": "execute_result",
          "data": {
            "text/plain": [
              "19    65918\n",
              "18    63226\n",
              "20    62279\n",
              "21    61491\n",
              "22    57096\n",
              "17    51629\n",
              "14    48820\n",
              "23    48449\n",
              "12    48398\n",
              "13    47842\n",
              "8     47476\n",
              "15    47283\n",
              "9     46938\n",
              "11    46224\n",
              "10    45170\n",
              "16    43085\n",
              "7     42913\n",
              "0     37846\n",
              "1     28495\n",
              "6     26689\n",
              "2     21089\n",
              "3     15471\n",
              "4     10896\n",
              "5     10618\n",
              "Name: hour, dtype: int64"
            ]
          },
          "metadata": {},
          "execution_count": 33
        }
      ]
    },
    {
      "cell_type": "code",
      "source": [
        "# plot point plot on hour, month and weekdays\n",
        "features = ['hour', 'weekday', 'month']\n",
        "for feature in features:\n",
        "    fig = plt.figure(figsize=(10,3))\n",
        "    sns.pointplot(x= df[feature], y= df['trip_duration'])\n",
        "    plt.title(f'{feature} vs trip_duration')\n",
        "    plt.show()\n",
        "    print(\"\\n \\n\")"
      ],
      "metadata": {
        "colab": {
          "base_uri": "https://localhost:8080/",
          "height": 845
        },
        "id": "p32rVJygKPJh",
        "outputId": "0052fae5-a997-403d-ceaf-461d2f3ffed4"
      },
      "execution_count": 34,
      "outputs": [
        {
          "output_type": "display_data",
          "data": {
            "text/plain": [
              "<Figure size 720x216 with 1 Axes>"
            ],
            "image/png": "[encoded data removed]"
          },
          "metadata": {
            "needs_background": "light"
          }
        },
        {
          "output_type": "stream",
          "name": "stdout",
          "text": [
            "\n",
            " \n",
            "\n"
          ]
        },
        {
          "output_type": "display_data",
          "data": {
            "text/plain": [
              "<Figure size 720x216 with 1 Axes>"
            ],
            "image/png": "[encoded data removed]"
          },
          "metadata": {
            "needs_background": "light"
          }
        },
        {
          "output_type": "stream",
          "name": "stdout",
          "text": [
            "\n",
            " \n",
            "\n"
          ]
        },
        {
          "output_type": "display_data",
          "data": {
            "text/plain": [
              "<Figure size 720x216 with 1 Axes>"
            ],
            "image/png": "[encoded data removed]"
          },
          "metadata": {
            "needs_background": "light"
          }
        },
        {
          "output_type": "stream",
          "name": "stdout",
          "text": [
            "\n",
            " \n",
            "\n"
          ]
        }
      ]
    },
    {
      "cell_type": "markdown",
      "source": [
        "* ***pickup and dropoff hours are almost the same, most of the comute happen from 6am to 7pm after which it gradually decreases.***\n",
        "* ***trip duration decreases as the weekend approches, it makes sense as most of the people either stay at home or go for vacations.***\n",
        "* ***trip duration increases after Feburary***.\n"
      ],
      "metadata": {
        "id": "-wyLItyKP2E5"
      }
    },
    {
      "cell_type": "markdown",
      "metadata": {
        "id": "xvb83ny-RlIB"
      },
      "source": [
        "# Feature engineering and Data Preparition\n"
      ]
    },
    {
      "cell_type": "code",
      "execution_count": 35,
      "metadata": {
        "colab": {
          "base_uri": "https://localhost:8080/"
        },
        "id": "B3IZErCcvPyb",
        "outputId": "646894a3-2547-41c8-9310-c1eb8ba8ee8b"
      },
      "outputs": [
        {
          "output_type": "execute_result",
          "data": {
            "text/plain": [
              "Index(['id', 'vendor_id', 'passenger_count', 'pickup_longitude',\n",
              "       'pickup_latitude', 'dropoff_longitude', 'dropoff_latitude',\n",
              "       'store_and_fwd_flag', 'trip_duration', 'weekday', 'month', 'hour',\n",
              "       'distance'],\n",
              "      dtype='object')"
            ]
          },
          "metadata": {},
          "execution_count": 35
        }
      ],
      "source": [
        "df.columns"
      ]
    },
    {
      "cell_type": "code",
      "execution_count": null,
      "metadata": {
        "id": "OW3vFJK0w-8J"
      },
      "outputs": [],
      "source": []
    },
    {
      "cell_type": "code",
      "execution_count": null,
      "metadata": {
        "id": "gIlvy01dxhrx"
      },
      "outputs": [],
      "source": []
    },
    {
      "cell_type": "code",
      "execution_count": 36,
      "metadata": {
        "id": "nOWrnrPKxqxB"
      },
      "outputs": [],
      "source": [
        "# Since there are total 24 different values in these two columns it would be better to categorize them and get dummies for them.\n",
        "\n",
        "# Function to convert pickup/dropoff hours to category.\n",
        "\n",
        "def hour_category(hour):\n",
        "    if hour>=7 and hour<=10:\n",
        "        return 'rush_hour_morning(7-9)'\n",
        "    elif hour>10 and hour<16:\n",
        "        return 'normal_hour_afternoon(9-16)'\n",
        "    elif hour>=16 and hour<=19:\n",
        "        return 'rush_hour_evening(16-19)'\n",
        "    elif hour>19 and hour <= 23:\n",
        "        return 'normal_hour_evining(20-23)'\n",
        "    else:\n",
        "        return 'latenight(23 onwards)'\n"
      ]
    },
    {
      "cell_type": "code",
      "execution_count": 38,
      "metadata": {
        "id": "IL00t2z9yqJg"
      },
      "outputs": [],
      "source": [
        "#  apply hour category to hour column\n",
        "df['pickup_time'] = df['hour'].apply(lambda x: hour_category(x))\n",
        "\n",
        "# drop hour colun\n",
        "df.drop(columns= ['hour'], inplace= True)"
      ]
    },
    {
      "cell_type": "code",
      "execution_count": 39,
      "metadata": {
        "colab": {
          "base_uri": "https://localhost:8080/"
        },
        "id": "hXx6dEsKzTYf",
        "outputId": "cdaa4b49-2ad8-4c94-c6a9-54e156c02de4"
      },
      "outputs": [
        {
          "output_type": "execute_result",
          "data": {
            "text/plain": [
              "Index(['id', 'vendor_id', 'passenger_count', 'pickup_longitude',\n",
              "       'pickup_latitude', 'dropoff_longitude', 'dropoff_latitude',\n",
              "       'store_and_fwd_flag', 'trip_duration', 'weekday', 'month', 'distance',\n",
              "       'pickup_time'],\n",
              "      dtype='object')"
            ]
          },
          "metadata": {},
          "execution_count": 39
        }
      ],
      "source": [
        "df.columns"
      ]
    },
    {
      "cell_type": "code",
      "execution_count": 40,
      "metadata": {
        "id": "SYjxv8zbRmdN"
      },
      "outputs": [],
      "source": [
        "# One hot encoding\n",
        "df = pd.get_dummies(df, columns= ['vendor_id', 'passenger_count', 'store_and_fwd_flag', 'weekday', 'month', 'pickup_time'], drop_first= True)"
      ]
    },
    {
      "cell_type": "code",
      "execution_count": 103,
      "metadata": {
        "colab": {
          "base_uri": "https://localhost:8080/"
        },
        "id": "p8nJFOndSYu0",
        "outputId": "f6647b01-f8ee-49a0-b494-8285b7646ca5"
      },
      "outputs": [
        {
          "output_type": "execute_result",
          "data": {
            "text/plain": [
              "Index(['trip_duration', 'distance', 'vendor_id_2', 'passenger_count_2',\n",
              "       'passenger_count_3', 'passenger_count_4', 'passenger_count_5',\n",
              "       'passenger_count_6', 'store_and_fwd_flag_Y'],\n",
              "      dtype='object')"
            ]
          },
          "metadata": {},
          "execution_count": 103
        }
      ],
      "source": [
        "df.columns"
      ]
    },
    {
      "cell_type": "code",
      "source": [],
      "metadata": {
        "id": "BZ8iDocyuxrt"
      },
      "execution_count": null,
      "outputs": []
    },
    {
      "cell_type": "code",
      "source": [
        "# # drop some colums\n",
        "# df.drop(columns = ['id', 'pickup_longitude',\n",
        "#        'pickup_latitude', 'dropoff_longitude', 'dropoff_latitude' ], inplace = True)"
      ],
      "metadata": {
        "id": "QYFozq54ft1J"
      },
      "execution_count": 43,
      "outputs": []
    },
    {
      "cell_type": "code",
      "source": [
        "# drop some colums\n",
        "# df.drop(columns = [ 'pickup_time_normal_hour_afternoon(9-16)',\n",
        "#        'pickup_time_normal_hour_evining(20-23)',\n",
        "#        'pickup_time_rush_hour_evening(16-19)',\n",
        "#        'pickup_time_rush_hour_morning(7-9)' ], inplace = True)"
      ],
      "metadata": {
        "id": "eIcMEhlWuvYI"
      },
      "execution_count": 84,
      "outputs": []
    },
    {
      "cell_type": "code",
      "source": [
        "# drop some colums\n",
        "df.drop(columns = ['weekday_1', 'weekday_2',\n",
        "       'weekday_3', 'weekday_4', 'weekday_5', 'weekday_6', 'month_2',\n",
        "       'month_3', 'month_4', 'month_5', 'month_6'], inplace = True)"
      ],
      "metadata": {
        "id": "ddGpwhL7vWT1"
      },
      "execution_count": 95,
      "outputs": []
    },
    {
      "cell_type": "code",
      "execution_count": 96,
      "metadata": {
        "colab": {
          "base_uri": "https://localhost:8080/"
        },
        "id": "ahqTl_2pS6ok",
        "outputId": "dd063f36-feaa-46a9-9215-bad840f7fbaa"
      },
      "outputs": [
        {
          "output_type": "execute_result",
          "data": {
            "text/plain": [
              "(1025341, 9)"
            ]
          },
          "metadata": {},
          "execution_count": 96
        }
      ],
      "source": [
        "df.shape"
      ]
    },
    {
      "cell_type": "code",
      "source": [
        "# plotting hit map\n",
        "fig = plt.figure(figsize=(18,12))\n",
        "colinearity = df.corr()\n",
        "sns.heatmap(colinearity,annot= True)"
      ],
      "metadata": {
        "colab": {
          "base_uri": "https://localhost:8080/",
          "height": 818
        },
        "id": "yz3P7S5Mw5tC",
        "outputId": "150f66a8-c188-4736-ad99-62533d6b03c6"
      },
      "execution_count": 97,
      "outputs": [
        {
          "output_type": "execute_result",
          "data": {
            "text/plain": [
              "<matplotlib.axes._subplots.AxesSubplot at 0x7fe58ada0f10>"
            ]
          },
          "metadata": {},
          "execution_count": 97
        },
        {
          "output_type": "display_data",
          "data": {
            "text/plain": [
              "<Figure size 1296x864 with 2 Axes>"
            ],
            "image/png": "[encoded data removed]"
          },
          "metadata": {
            "needs_background": "light"
          }
        }
      ]
    },
    {
      "cell_type": "code",
      "source": [],
      "metadata": {
        "id": "99IohaBYhZe4"
      },
      "execution_count": null,
      "outputs": []
    },
    {
      "cell_type": "code",
      "execution_count": 98,
      "metadata": {
        "id": "acX-aHoUULEd"
      },
      "outputs": [],
      "source": [
        "dependent_variables = ['trip_duration']\n",
        "independent_variables = [i for i in df.columns if i not in dependent_variables]"
      ]
    },
    {
      "cell_type": "code",
      "execution_count": 99,
      "metadata": {
        "id": "Buj1AZ9YWOsU"
      },
      "outputs": [],
      "source": [
        "# get x and y values\n",
        "X = df[independent_variables]\n",
        "y = df[dependent_variables]\n",
        "# Train Test Split.\n",
        "X_train, X_test, y_train, y_test = train_test_split(X, y,test_size=0.2,random_state =5)"
      ]
    },
    {
      "cell_type": "code",
      "execution_count": 100,
      "metadata": {
        "id": "yhZVY2ajWnnE"
      },
      "outputs": [],
      "source": [
        "# Scale the data \n",
        "scaler = StandardScaler()\n",
        "X_train = scaler.fit_transform(X_train)\n",
        "X_test = scaler.transform(X_test)"
      ]
    },
    {
      "cell_type": "markdown",
      "source": [
        "# Model Selection"
      ],
      "metadata": {
        "id": "Vmd3tENjio7X"
      }
    },
    {
      "cell_type": "markdown",
      "metadata": {
        "id": "RumyuTBuZ5Bz"
      },
      "source": [
        "**Models we will be building:**\n",
        "* **Linear Regression**\n",
        "* **Decision Tree Regressorr**\n",
        "* **RandomForestRegressor**\n",
        "* **XG Boost Regressor**\n",
        "* **Hist Gradient Boosting Regressor**\n",
        "* **AdaBoostRegressor**\n"
      ]
    },
    {
      "cell_type": "code",
      "execution_count": 101,
      "metadata": {
        "id": "_8zIBJtW0l9Q"
      },
      "outputs": [],
      "source": [
        "# Defining the models to be used.\n",
        "models = [['Linear Regression', LinearRegression()],\n",
        "        #   ['Decision Tree Regressor', DecisionTreeRegressor()],\n",
        "        #   ['RandomForestRegressor', RandomForestRegressor()],\n",
        "        #   ['XG Boost Regressor', xgb.XGBRegressor()],\n",
        "          ['Hist Gradient Boosting Regressor', HistGradientBoostingRegressor()],\n",
        "        #   ['AdaBoostRegressor', AdaBoostRegressor()],\n",
        "          ]"
      ]
    },
    {
      "cell_type": "code",
      "execution_count": 102,
      "metadata": {
        "colab": {
          "base_uri": "https://localhost:8080/",
          "height": 112
        },
        "id": "8u_GHz3v0l6S",
        "outputId": "641076c0-8f18-4194-c66f-06b2b1ad8b04"
      },
      "outputs": [
        {
          "output_type": "execute_result",
          "data": {
            "text/plain": [
              "                               name  train_time  Train_R2_Score  \\\n",
              "0                 Linear Regression    0.250892        0.382334   \n",
              "1  Hist Gradient Boosting Regressor    6.998543        0.453926   \n",
              "\n",
              "   Test_R2_Score  Test_RMSE_Score  \n",
              "0       0.381394       185.778054  \n",
              "1       0.453482       174.618342  "
            ],
            "text/html": [
              "\n",
              "  <div id=\"df-2e6e7f6b-b462-4dd3-81e1-41148a8316d8\">\n",
              "    <div class=\"colab-df-container\">\n",
              "      <div>\n",
              "<style scoped>\n",
              "    .dataframe tbody tr th:only-of-type {\n",
              "        vertical-align: middle;\n",
              "    }\n",
              "\n",
              "    .dataframe tbody tr th {\n",
              "        vertical-align: top;\n",
              "    }\n",
              "\n",
              "    .dataframe thead th {\n",
              "        text-align: right;\n",
              "    }\n",
              "</style>\n",
              "<table border=\"1\" class=\"dataframe\">\n",
              "  <thead>\n",
              "    <tr style=\"text-align: right;\">\n",
              "      <th></th>\n",
              "      <th>name</th>\n",
              "      <th>train_time</th>\n",
              "      <th>Train_R2_Score</th>\n",
              "      <th>Test_R2_Score</th>\n",
              "      <th>Test_RMSE_Score</th>\n",
              "    </tr>\n",
              "  </thead>\n",
              "  <tbody>\n",
              "    <tr>\n",
              "      <th>0</th>\n",
              "      <td>Linear Regression</td>\n",
              "      <td>0.250892</td>\n",
              "      <td>0.382334</td>\n",
              "      <td>0.381394</td>\n",
              "      <td>185.778054</td>\n",
              "    </tr>\n",
              "    <tr>\n",
              "      <th>1</th>\n",
              "      <td>Hist Gradient Boosting Regressor</td>\n",
              "      <td>6.998543</td>\n",
              "      <td>0.453926</td>\n",
              "      <td>0.453482</td>\n",
              "      <td>174.618342</td>\n",
              "    </tr>\n",
              "  </tbody>\n",
              "</table>\n",
              "</div>\n",
              "      <button class=\"colab-df-convert\" onclick=\"convertToInteractive('df-2e6e7f6b-b462-4dd3-81e1-41148a8316d8')\"\n",
              "              title=\"Convert this dataframe to an interactive table.\"\n",
              "              style=\"display:none;\">\n",
              "        \n",
              "  <svg xmlns=\"http://www.w3.org/2000/svg\" height=\"24px\"viewBox=\"0 0 24 24\"\n",
              "       width=\"24px\">\n",
              "    <path d=\"M0 0h24v24H0V0z\" fill=\"none\"/>\n",
              "    <path d=\"M18.56 5.44l.94 2.06.94-2.06 2.06-.94-2.06-.94-.94-2.06-.94 2.06-2.06.94zm-11 1L8.5 8.5l.94-2.06 2.06-.94-2.06-.94L8.5 2.5l-.94 2.06-2.06.94zm10 10l.94 2.06.94-2.06 2.06-.94-2.06-.94-.94-2.06-.94 2.06-2.06.94z\"/><path d=\"M17.41 7.96l-1.37-1.37c-.4-.4-.92-.59-1.43-.59-.52 0-1.04.2-1.43.59L10.3 9.45l-7.72 7.72c-.78.78-.78 2.05 0 2.83L4 21.41c.39.39.9.59 1.41.59.51 0 1.02-.2 1.41-.59l7.78-7.78 2.81-2.81c.8-.78.8-2.07 0-2.86zM5.41 20L4 18.59l7.72-7.72 1.47 1.35L5.41 20z\"/>\n",
              "  </svg>\n",
              "      </button>\n",
              "      \n",
              "  <style>\n",
              "    .colab-df-container {\n",
              "      display:flex;\n",
              "      flex-wrap:wrap;\n",
              "      gap: 12px;\n",
              "    }\n",
              "\n",
              "    .colab-df-convert {\n",
              "      background-color: #E8F0FE;\n",
              "      border: none;\n",
              "      border-radius: 50%;\n",
              "      cursor: pointer;\n",
              "      display: none;\n",
              "      fill: #1967D2;\n",
              "      height: 32px;\n",
              "      padding: 0 0 0 0;\n",
              "      width: 32px;\n",
              "    }\n",
              "\n",
              "    .colab-df-convert:hover {\n",
              "      background-color: #E2EBFA;\n",
              "      box-shadow: 0px 1px 2px rgba(60, 64, 67, 0.3), 0px 1px 3px 1px rgba(60, 64, 67, 0.15);\n",
              "      fill: #174EA6;\n",
              "    }\n",
              "\n",
              "    [theme=dark] .colab-df-convert {\n",
              "      background-color: #3B4455;\n",
              "      fill: #D2E3FC;\n",
              "    }\n",
              "\n",
              "    [theme=dark] .colab-df-convert:hover {\n",
              "      background-color: #434B5C;\n",
              "      box-shadow: 0px 1px 3px 1px rgba(0, 0, 0, 0.15);\n",
              "      filter: drop-shadow(0px 1px 2px rgba(0, 0, 0, 0.3));\n",
              "      fill: #FFFFFF;\n",
              "    }\n",
              "  </style>\n",
              "\n",
              "      <script>\n",
              "        const buttonEl =\n",
              "          document.querySelector('#df-2e6e7f6b-b462-4dd3-81e1-41148a8316d8 button.colab-df-convert');\n",
              "        buttonEl.style.display =\n",
              "          google.colab.kernel.accessAllowed ? 'block' : 'none';\n",
              "\n",
              "        async function convertToInteractive(key) {\n",
              "          const element = document.querySelector('#df-2e6e7f6b-b462-4dd3-81e1-41148a8316d8');\n",
              "          const dataTable =\n",
              "            await google.colab.kernel.invokeFunction('convertToInteractive',\n",
              "                                                     [key], {});\n",
              "          if (!dataTable) return;\n",
              "\n",
              "          const docLinkHtml = 'Like what you see? Visit the ' +\n",
              "            '<a target=\"_blank\" href=https://colab.research.google.com/notebooks/data_table.ipynb>data table notebook</a>'\n",
              "            + ' to learn more about interactive tables.';\n",
              "          element.innerHTML = '';\n",
              "          dataTable['output_type'] = 'display_data';\n",
              "          await google.colab.output.renderOutput(dataTable, element);\n",
              "          const docLink = document.createElement('div');\n",
              "          docLink.innerHTML = docLinkHtml;\n",
              "          element.appendChild(docLink);\n",
              "        }\n",
              "      </script>\n",
              "    </div>\n",
              "  </div>\n",
              "  "
            ]
          },
          "metadata": {},
          "execution_count": 102
        }
      ],
      "source": [
        "# creating a loop to train all the models and get eveluation metrics\n",
        "model_eveluation_metrices =[]\n",
        "for name, model in models:\n",
        "    working_model ={}\n",
        "    working_model['name'] = name\n",
        "    start = time.time()\n",
        "    model.fit(X_train, y_train)\n",
        "    end = time.time()\n",
        "    working_model['train_time'] = end - start\n",
        "    y_pred_train = model.predict(X_train)\n",
        "    y_pred_test = model.predict(X_test)\n",
        "    working_model[\"Train_R2_Score\"] = r2_score(y_train, y_pred_train)\n",
        "    working_model[\"Test_R2_Score\"] = r2_score(y_test, y_pred_test)\n",
        "    working_model[\"Test_RMSE_Score\"] = np.sqrt(mean_squared_error(y_test, y_pred_test))\n",
        "    model_eveluation_metrices.append(working_model)\n",
        "\n",
        "\n",
        "model_eveluation_metrices_df = pd.DataFrame(model_eveluation_metrices)\n",
        "model_eveluation_metrices_df\n",
        "\n"
      ]
    },
    {
      "cell_type": "markdown",
      "metadata": {
        "id": "C1cVgYBOi11y"
      },
      "source": [
        "Looking at the above Performance Matrix we can say thay XGBoost and Hist Gradient Boosting Regressor are the best model for this dataset. however Hist Gradient Boosting Regressor model takes significantly less time so we decided to tune Hist Gradient Boosting Regressor model."
      ]
    },
    {
      "cell_type": "markdown",
      "metadata": {
        "id": "S7P5uznVkzvR"
      },
      "source": [
        "# Hyperparameter Tuning:"
      ]
    },
    {
      "cell_type": "markdown",
      "metadata": {
        "id": "JoWQVuCtk27g"
      },
      "source": [
        "We will tune the parameters of Hist Gradient Boosting Regressor for better results."
      ]
    },
    {
      "cell_type": "code",
      "execution_count": null,
      "metadata": {
        "colab": {
          "base_uri": "https://localhost:8080/"
        },
        "id": "GTgyRPx50lsf",
        "outputId": "077a7a68-480c-4db5-bdf7-ef628487ea63"
      },
      "outputs": [
        {
          "output_type": "stream",
          "name": "stdout",
          "text": [
            "Fitting 3 folds for each of 24 candidates, totalling 72 fits\n",
            "[CV] END learning_rate=0.2, max_depth=9, max_iter=400, min_samples_leaf=60; total time=  10.2s\n",
            "[CV] END learning_rate=0.2, max_depth=9, max_iter=400, min_samples_leaf=60; total time=   7.6s\n",
            "[CV] END learning_rate=0.2, max_depth=9, max_iter=400, min_samples_leaf=60; total time=  10.6s\n",
            "[CV] END learning_rate=0.2, max_depth=9, max_iter=400, min_samples_leaf=70; total time=   9.2s\n",
            "[CV] END learning_rate=0.2, max_depth=9, max_iter=400, min_samples_leaf=70; total time=  10.5s\n",
            "[CV] END learning_rate=0.2, max_depth=9, max_iter=400, min_samples_leaf=70; total time=  11.3s\n",
            "[CV] END learning_rate=0.2, max_depth=9, max_iter=500, min_samples_leaf=60; total time=   9.0s\n",
            "[CV] END learning_rate=0.2, max_depth=9, max_iter=500, min_samples_leaf=60; total time=   7.9s\n",
            "[CV] END learning_rate=0.2, max_depth=9, max_iter=500, min_samples_leaf=60; total time=   8.9s\n",
            "[CV] END learning_rate=0.2, max_depth=9, max_iter=500, min_samples_leaf=70; total time=   7.0s\n",
            "[CV] END learning_rate=0.2, max_depth=9, max_iter=500, min_samples_leaf=70; total time=  11.1s\n",
            "[CV] END learning_rate=0.2, max_depth=9, max_iter=500, min_samples_leaf=70; total time=  10.5s\n",
            "[CV] END learning_rate=0.2, max_depth=10, max_iter=400, min_samples_leaf=60; total time=   8.6s\n",
            "[CV] END learning_rate=0.2, max_depth=10, max_iter=400, min_samples_leaf=60; total time=   8.1s\n",
            "[CV] END learning_rate=0.2, max_depth=10, max_iter=400, min_samples_leaf=60; total time=   8.5s\n",
            "[CV] END learning_rate=0.2, max_depth=10, max_iter=400, min_samples_leaf=70; total time=   7.0s\n",
            "[CV] END learning_rate=0.2, max_depth=10, max_iter=400, min_samples_leaf=70; total time=  10.8s\n",
            "[CV] END learning_rate=0.2, max_depth=10, max_iter=400, min_samples_leaf=70; total time=   7.5s\n",
            "[CV] END learning_rate=0.2, max_depth=10, max_iter=500, min_samples_leaf=60; total time=  10.5s\n",
            "[CV] END learning_rate=0.2, max_depth=10, max_iter=500, min_samples_leaf=60; total time=   9.8s\n",
            "[CV] END learning_rate=0.2, max_depth=10, max_iter=500, min_samples_leaf=60; total time=   7.6s\n",
            "[CV] END learning_rate=0.2, max_depth=10, max_iter=500, min_samples_leaf=70; total time=   8.7s\n",
            "[CV] END learning_rate=0.2, max_depth=10, max_iter=500, min_samples_leaf=70; total time=   9.1s\n",
            "[CV] END learning_rate=0.2, max_depth=10, max_iter=500, min_samples_leaf=70; total time=   7.7s\n",
            "[CV] END learning_rate=0.3, max_depth=9, max_iter=400, min_samples_leaf=60; total time=   6.3s\n",
            "[CV] END learning_rate=0.3, max_depth=9, max_iter=400, min_samples_leaf=60; total time=   8.4s\n",
            "[CV] END learning_rate=0.3, max_depth=9, max_iter=400, min_samples_leaf=60; total time=  12.2s\n",
            "[CV] END learning_rate=0.3, max_depth=9, max_iter=400, min_samples_leaf=70; total time=   7.2s\n",
            "[CV] END learning_rate=0.3, max_depth=9, max_iter=400, min_samples_leaf=70; total time=   6.3s\n",
            "[CV] END learning_rate=0.3, max_depth=9, max_iter=400, min_samples_leaf=70; total time=   5.8s\n",
            "[CV] END learning_rate=0.3, max_depth=9, max_iter=500, min_samples_leaf=60; total time=   6.9s\n",
            "[CV] END learning_rate=0.3, max_depth=9, max_iter=500, min_samples_leaf=60; total time=   5.2s\n",
            "[CV] END learning_rate=0.3, max_depth=9, max_iter=500, min_samples_leaf=60; total time=   6.6s\n",
            "[CV] END learning_rate=0.3, max_depth=9, max_iter=500, min_samples_leaf=70; total time=   5.5s\n",
            "[CV] END learning_rate=0.3, max_depth=9, max_iter=500, min_samples_leaf=70; total time=   8.2s\n",
            "[CV] END learning_rate=0.3, max_depth=9, max_iter=500, min_samples_leaf=70; total time=   5.4s\n",
            "[CV] END learning_rate=0.3, max_depth=10, max_iter=400, min_samples_leaf=60; total time=   6.1s\n",
            "[CV] END learning_rate=0.3, max_depth=10, max_iter=400, min_samples_leaf=60; total time=   8.5s\n",
            "[CV] END learning_rate=0.3, max_depth=10, max_iter=400, min_samples_leaf=60; total time=  11.4s\n",
            "[CV] END learning_rate=0.3, max_depth=10, max_iter=400, min_samples_leaf=70; total time=  10.2s\n",
            "[CV] END learning_rate=0.3, max_depth=10, max_iter=400, min_samples_leaf=70; total time=   7.9s\n",
            "[CV] END learning_rate=0.3, max_depth=10, max_iter=400, min_samples_leaf=70; total time=   9.4s\n",
            "[CV] END learning_rate=0.3, max_depth=10, max_iter=500, min_samples_leaf=60; total time=   6.8s\n",
            "[CV] END learning_rate=0.3, max_depth=10, max_iter=500, min_samples_leaf=60; total time=   5.8s\n",
            "[CV] END learning_rate=0.3, max_depth=10, max_iter=500, min_samples_leaf=60; total time=   6.9s\n",
            "[CV] END learning_rate=0.3, max_depth=10, max_iter=500, min_samples_leaf=70; total time=  10.3s\n",
            "[CV] END learning_rate=0.3, max_depth=10, max_iter=500, min_samples_leaf=70; total time=   9.3s\n",
            "[CV] END learning_rate=0.3, max_depth=10, max_iter=500, min_samples_leaf=70; total time=  15.6s\n",
            "[CV] END learning_rate=0.4, max_depth=9, max_iter=400, min_samples_leaf=60; total time=   6.0s\n",
            "[CV] END learning_rate=0.4, max_depth=9, max_iter=400, min_samples_leaf=60; total time=   6.1s\n",
            "[CV] END learning_rate=0.4, max_depth=9, max_iter=400, min_samples_leaf=60; total time=   7.3s\n",
            "[CV] END learning_rate=0.4, max_depth=9, max_iter=400, min_samples_leaf=70; total time=   6.4s\n",
            "[CV] END learning_rate=0.4, max_depth=9, max_iter=400, min_samples_leaf=70; total time=   6.5s\n",
            "[CV] END learning_rate=0.4, max_depth=9, max_iter=400, min_samples_leaf=70; total time=   7.1s\n",
            "[CV] END learning_rate=0.4, max_depth=9, max_iter=500, min_samples_leaf=60; total time=   8.6s\n",
            "[CV] END learning_rate=0.4, max_depth=9, max_iter=500, min_samples_leaf=60; total time=   6.3s\n",
            "[CV] END learning_rate=0.4, max_depth=9, max_iter=500, min_samples_leaf=60; total time=   5.0s\n",
            "[CV] END learning_rate=0.4, max_depth=9, max_iter=500, min_samples_leaf=70; total time=   6.1s\n",
            "[CV] END learning_rate=0.4, max_depth=9, max_iter=500, min_samples_leaf=70; total time=   6.0s\n",
            "[CV] END learning_rate=0.4, max_depth=9, max_iter=500, min_samples_leaf=70; total time=   6.2s\n",
            "[CV] END learning_rate=0.4, max_depth=10, max_iter=400, min_samples_leaf=60; total time=   4.8s\n",
            "[CV] END learning_rate=0.4, max_depth=10, max_iter=400, min_samples_leaf=60; total time=   7.3s\n",
            "[CV] END learning_rate=0.4, max_depth=10, max_iter=400, min_samples_leaf=60; total time=   6.8s\n",
            "[CV] END learning_rate=0.4, max_depth=10, max_iter=400, min_samples_leaf=70; total time=   6.5s\n",
            "[CV] END learning_rate=0.4, max_depth=10, max_iter=400, min_samples_leaf=70; total time=   6.0s\n",
            "[CV] END learning_rate=0.4, max_depth=10, max_iter=400, min_samples_leaf=70; total time=   6.0s\n",
            "[CV] END learning_rate=0.4, max_depth=10, max_iter=500, min_samples_leaf=60; total time=   5.5s\n",
            "[CV] END learning_rate=0.4, max_depth=10, max_iter=500, min_samples_leaf=60; total time=   5.7s\n",
            "[CV] END learning_rate=0.4, max_depth=10, max_iter=500, min_samples_leaf=60; total time=   5.4s\n",
            "[CV] END learning_rate=0.4, max_depth=10, max_iter=500, min_samples_leaf=70; total time=   6.4s\n",
            "[CV] END learning_rate=0.4, max_depth=10, max_iter=500, min_samples_leaf=70; total time=   7.4s\n",
            "[CV] END learning_rate=0.4, max_depth=10, max_iter=500, min_samples_leaf=70; total time=   6.9s\n",
            "\n",
            "=========================================================\n",
            "\n",
            "Time required top train   571.5794219970703\n",
            "\n",
            "=========================================================\n",
            "\n",
            "Best parameters are  \n",
            " {'learning_rate': 0.2, 'max_depth': 10, 'max_iter': 400, 'min_samples_leaf': 60}\n",
            "\n",
            "=========================================================\n",
            "\n",
            "Train_R2_Score  0.6965704770365371\n",
            "Test_R2_Score  0.697426365413887\n",
            "Train_RMSE_Score   0.18353166941036406\n",
            "Test_RMSE_Score   0.18349648728865006\n",
            "\n",
            "=========================================================\n",
            "\n"
          ]
        }
      ],
      "source": [
        "# creating parameters\n",
        "max_depth = [9,10]\n",
        "learning_rate = [.2,0.3,0.4]\n",
        "min_samples_leaf = [60,70]\n",
        "max_iter = [400,500]\n",
        "\n",
        "# param_dict\n",
        "param_dict = {\n",
        "    'learning_rate' : learning_rate, \n",
        "    'max_depth' : max_depth, \n",
        "    'min_samples_leaf' : min_samples_leaf ,\n",
        "    'max_iter' : max_iter\n",
        "}\n",
        "\n",
        "# define the model \n",
        "hgbt = HistGradientBoostingRegressor()\n",
        "#Grid Serch\n",
        "hgbt_grid = GridSearchCV(estimator= hgbt, param_grid= param_dict, cv = 3, verbose = 2, scoring= 'r2')\n",
        "\n",
        "# Train model\n",
        "start = time.time()\n",
        "hgbt_grid.fit(X_train, y_train)\n",
        "end = time.time()\n",
        "print(\"\\n=========================================================\\n\")\n",
        "print(\"Time required top train  \",end - start)\n",
        "\n",
        "# Get the parameters\n",
        "print(\"\\n=========================================================\\n\")\n",
        "print(\"Best parameters are  \\n\",hgbt_grid.best_params_)\n",
        "\n",
        "# predit \n",
        "y_train_preds = hgbt_grid.best_estimator_.predict(X_train)\n",
        "y_test_preds = hgbt_grid.best_estimator_.predict(X_test)\n",
        "\n",
        "print(\"\\n=========================================================\\n\")\n",
        "Train_R2_Score = r2_score(y_train,y_train_preds)\n",
        "Train_RMSE_Score = np.sqrt(mean_squared_error(y_train,y_train_preds))\n",
        "\n",
        "Test_R2_Score = r2_score(y_test, y_test_preds)\n",
        "Test_RMSE_Score = np.sqrt(mean_squared_error(y_test, y_test_preds))\n",
        "print(f\"Train_R2_Score  {Train_R2_Score}\")\n",
        "print(f\"Test_R2_Score  {Test_R2_Score}\")\n",
        "print(f\"Train_RMSE_Score   {Train_RMSE_Score}\")\n",
        "print(f\"Test_RMSE_Score   {Test_RMSE_Score}\")\n",
        "print(\"\\n=========================================================\\n\")"
      ]
    },
    {
      "cell_type": "code",
      "source": [
        "plt.figure(figsize=(20,5))\n",
        "plt.plot(np.array(y_test_preds)[:200])\n",
        "plt.plot(np.array(y_test)[:200])\n",
        "plt.legend([\"Predicted\",\"Actual\"])\n",
        "plt.show()"
      ],
      "metadata": {
        "colab": {
          "base_uri": "https://localhost:8080/",
          "height": 321
        },
        "id": "dd34pmJj8IEf",
        "outputId": "8693bbea-0204-403f-ac3c-c21da8b53dc4"
      },
      "execution_count": null,
      "outputs": [
        {
          "output_type": "display_data",
          "data": {
            "text/plain": [
              "<Figure size 1440x360 with 1 Axes>"
            ],
            "image/png": "[encoded data removed]"
          },
          "metadata": {
            "needs_background": "light"
          }
        }
      ]
    },
    {
      "cell_type": "code",
      "source": [],
      "metadata": {
        "id": "KA1N3nqp-uwm"
      },
      "execution_count": null,
      "outputs": []
    },
    {
      "cell_type": "markdown",
      "source": [
        "# Conclusion\n",
        "In this project ,covered various aspects of the Machine learning development cycle amd observed that the data exploration and variable analysis is a very important for the cycle and should be done for thorough understanding of the data. Also cleaned the data while exploring as there were some outliers which should be treated before feature engineering. Further performed feature engineering to filter and gather only the optimal features which are more significant."
      ],
      "metadata": {
        "id": "8PwDxRg8-wGB"
      }
    },
    {
      "cell_type": "code",
      "source": [],
      "metadata": {
        "id": "Ig6lISz--wsu"
      },
      "execution_count": null,
      "outputs": []
    }
  ],
  "metadata": {
    "accelerator": "GPU",
    "colab": {
      "collapsed_sections": [],
      "provenance": [],
      "toc_visible": true,
      "include_colab_link": true
    },
    "kernelspec": {
      "display_name": "Python 3",
      "language": "python",
      "name": "python3"
    },
    "language_info": {
      "codemirror_mode": {
        "name": "ipython",
        "version": 3
      },
      "file_extension": ".py",
      "mimetype": "text/x-python",
      "name": "python",
      "nbconvert_exporter": "python",
      "pygments_lexer": "ipython3",
      "version": "3.6.6"
    }
  },
  "nbformat": 4,
  "nbformat_minor": 0
}